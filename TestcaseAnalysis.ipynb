{
 "cells": [
  {
   "cell_type": "code",
   "execution_count": 1,
   "metadata": {},
   "outputs": [],
   "source": [
    "from src import analyzer\n",
    "\n",
    "test_analyzer = analyzer.TestCaseAnalyzer()\n",
    "test_analyzer.load_testcases('data/sqlite')"
   ]
  },
  {
   "cell_type": "code",
   "execution_count": 2,
   "metadata": {},
   "outputs": [
    {
     "name": "stdout",
     "output_type": "stream",
     "text": [
      "Total number of statement is 210776\n",
      "Average statement length is 64.60857498007363\n",
      "Total number of query is 7179591\n",
      "Average query length is 84.29425673412315\n"
     ]
    }
   ],
   "source": [
    "statements = test_analyzer.get_statements()\n",
    "queries = test_analyzer.get_queries()\n",
    "\n",
    "print(\"Total number of statement is\", len(statements))\n",
    "print(\"Average statement length is\", statements['SQL'].apply(len).mean())\n",
    "\n",
    "\n",
    "print(\"Total number of query is\", len(queries))\n",
    "print(\"Average query length is\", queries['SQL'].apply(len).mean())"
   ]
  },
  {
   "cell_type": "code",
   "execution_count": 3,
   "metadata": {},
   "outputs": [
    {
     "name": "stdout",
     "output_type": "stream",
     "text": [
      "Statement type:\n",
      "INSERT     116405\n",
      "CREATE      39759\n",
      "DROP        34708\n",
      "DELETE      19879\n",
      "UPDATE         15\n",
      "SELECT          6\n",
      "REPLACE         2\n",
      "REINDEX         2\n",
      "Name: 0, dtype: int64\n"
     ]
    },
    {
     "ename": "",
     "evalue": "",
     "output_type": "error",
     "traceback": [
      "\u001b[1;31mCanceled future for execute_request message before replies were done"
     ]
    },
    {
     "ename": "",
     "evalue": "",
     "output_type": "error",
     "traceback": [
      "\u001b[1;31mThe Kernel crashed while executing code in the the current cell or a previous cell. Please review the code in the cell(s) to identify a possible cause of the failure. Click <a href='https://aka.ms/vscodeJupyterKernelCrash'>here</a> for more info. View Jupyter <a href='command:jupyter.viewOutput'>log</a> for further details."
     ]
    }
   ],
   "source": [
    "statements_key = statements['SQL'].str.split(expand=True)[0]\n",
    "print(\"Statement type:\")\n",
    "print(statements_key.value_counts())\n",
    "\n",
    "query_key = statements['SQL'].str.split(expand=True)[0]\n",
    "print(\"Query type:\")\n",
    "print(query_key.value_counts())"
   ]
  }
 ],
 "metadata": {
  "kernelspec": {
   "display_name": "Python 3.10.6 64-bit",
   "language": "python",
   "name": "python3"
  },
  "language_info": {
   "codemirror_mode": {
    "name": "ipython",
    "version": 3
   },
   "file_extension": ".py",
   "mimetype": "text/x-python",
   "name": "python",
   "nbconvert_exporter": "python",
   "pygments_lexer": "ipython3",
   "version": "3.10.6"
  },
  "orig_nbformat": 4,
  "vscode": {
   "interpreter": {
    "hash": "916dbcbb3f70747c44a77c7bcd40155683ae19c65e1c03b4aa3499c5328201f1"
   }
  }
 },
 "nbformat": 4,
 "nbformat_minor": 2
}
