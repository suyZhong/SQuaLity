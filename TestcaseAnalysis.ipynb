{
 "cells": [
  {
   "cell_type": "code",
   "execution_count": null,
   "metadata": {},
   "outputs": [],
   "source": [
    "from src import analyzer\n",
    "\n",
    "test_analyzer = analyzer.TestCaseAnalyzer()\n",
    "dbms_name = 'postgresql'\n",
    "test_analyzer.load_testcases('data/{}'.format(dbms_name))"
   ]
  },
  {
   "cell_type": "code",
   "execution_count": null,
   "metadata": {},
   "outputs": [],
   "source": [
    "statements = test_analyzer.get_statements()\n",
    "queries = test_analyzer.get_queries()\n",
    "\n",
    "print(\"Total number of statement is\", len(statements))\n",
    "print(\"Average statement length is\", statements['SQL'].apply(len).mean())\n",
    "\n",
    "\n",
    "print(\"Total number of query is\", len(queries))\n",
    "print(\"Average query length is\", queries['SQL'].apply(len).mean())"
   ]
  },
  {
   "cell_type": "code",
   "execution_count": null,
   "metadata": {},
   "outputs": [],
   "source": [
    "statements['SQL'] = statements['SQL'].str.upper()\n",
    "statements_key = statements['SQL'].str.split(expand=True)[0]\n",
    "print(\"Statement type:\")\n",
    "stmt_count = statements_key.value_counts(normalize=True)\n",
    "print(stmt_count)\n",
    "\n",
    "\n",
    "queries = queries[:min(10 * len(statements), len(queries))]\n",
    "\n",
    "queries['SQL'] = queries['SQL'].str.upper()\n",
    "query_key = queries['SQL'].str.split(expand=True)[0]\n",
    "print(\"Query type:\")\n",
    "query_count = query_key.value_counts(normalize=True)\n",
    "print(query_count)"
   ]
  },
  {
   "cell_type": "code",
   "execution_count": null,
   "metadata": {},
   "outputs": [],
   "source": [
    "import matplotlib.pyplot as plt\n",
    "\n",
    "f, (a0, a1) = plt.subplots(1, 2, gridspec_kw={'width_ratios': [2, 1]}, figsize=(6,3))\n",
    "query_count[:min(len(query_count), 5)].plot.bar(title=\"Query Commands\", ax=a1, color='gray')\n",
    "stmt_count[:min(len(stmt_count), 10)].plot.bar(title=\"Statement Commands\", ax=a0, color='gray')\n",
    "f.tight_layout()\n",
    "f.savefig(\"demo/img/{}-testcase\".format(dbms_name))\n"
   ]
  }
 ],
 "metadata": {
  "kernelspec": {
   "display_name": "Python 3.10.6 64-bit",
   "language": "python",
   "name": "python3"
  },
  "language_info": {
   "codemirror_mode": {
    "name": "ipython",
    "version": 3
   },
   "file_extension": ".py",
   "mimetype": "text/x-python",
   "name": "python",
   "nbconvert_exporter": "python",
   "pygments_lexer": "ipython3",
   "version": "3.10.6"
  },
  "orig_nbformat": 4,
  "vscode": {
   "interpreter": {
    "hash": "916dbcbb3f70747c44a77c7bcd40155683ae19c65e1c03b4aa3499c5328201f1"
   }
  }
 },
 "nbformat": 4,
 "nbformat_minor": 2
}
