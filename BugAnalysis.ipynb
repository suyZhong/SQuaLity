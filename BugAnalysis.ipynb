{
 "cells": [
  {
   "cell_type": "markdown",
   "metadata": {},
   "source": [
    "## Get bugs information from `.csv` files\n",
    "\n",
    "The following part extracts information from the `.csv` files dumped during running test suites on DBMSs."
   ]
  },
  {
   "cell_type": "code",
   "execution_count": 31,
   "metadata": {},
   "outputs": [
    {
     "name": "stdout",
     "output_type": "stream",
     "text": [
      "<class 'pandas.core.frame.DataFrame'>\n",
      "RangeIndex: 9951 entries, 0 to 9950\n",
      "Data columns (total 12 columns):\n",
      " #   Column           Non-Null Count  Dtype  \n",
      "---  ------           --------------  -----  \n",
      " 0   Unnamed: 0       9951 non-null   int64  \n",
      " 1   DBMS_NAME        9951 non-null   object \n",
      " 2   TESTFILE_INDEX   9951 non-null   int64  \n",
      " 3   TESTFILE_PATH    9951 non-null   object \n",
      " 4   TESTCASE_INDEX   9951 non-null   int64  \n",
      " 5   ERROR_SQL        9951 non-null   object \n",
      " 6   CASE_TYPE        9951 non-null   object \n",
      " 7   EXPECTED_RESULT  9670 non-null   object \n",
      " 8   ACTUAL_RESULT    9670 non-null   object \n",
      " 9   LOGS_INDEX       9951 non-null   int64  \n",
      " 10  DATE             9951 non-null   object \n",
      " 11  EXEC_TIME        9951 non-null   float64\n",
      "dtypes: float64(1), int64(4), object(7)\n",
      "memory usage: 933.0+ KB\n",
      "None\n",
      "<class 'pandas.core.frame.DataFrame'>\n",
      "RangeIndex: 13 entries, 0 to 12\n",
      "Data columns (total 3 columns):\n",
      " #   Column      Non-Null Count  Dtype  \n",
      "---  ------      --------------  -----  \n",
      " 0   Unnamed: 0  13 non-null     int64  \n",
      " 1   BUGS_INDEX  0 non-null      float64\n",
      " 2   LOGS        12 non-null     object \n",
      "dtypes: float64(1), int64(1), object(1)\n",
      "memory usage: 440.0+ bytes\n",
      "None\n"
     ]
    }
   ],
   "source": [
    "import pandas as pd\n",
    "\n",
    "bugs_df = pd.read_csv(\"output/mysql_bugs.zip\",compression='zip')\n",
    "logs_df = pd.read_csv(\"output/mysql_logs.zip\", compression='zip')\n",
    "\n",
    "print(bugs_df.info())\n",
    "print(logs_df.info())\n"
   ]
  },
  {
   "cell_type": "code",
   "execution_count": 32,
   "metadata": {},
   "outputs": [
    {
     "name": "stdout",
     "output_type": "stream",
     "text": [
      "0                                                   NaN\n",
      "1     CREATE TABLE tab0(col0 INTEGER, col1 INTEGER, ...\n",
      "2     CREATE TABLE tab0(col0 INTEGER, col1 INTEGER, ...\n",
      "3     CREATE TABLE tab0(col0 INTEGER, col1 INTEGER, ...\n",
      "4     CREATE TABLE tab0(col0 INTEGER, col1 INTEGER, ...\n",
      "5     CREATE TABLE tab0(col0 INTEGER, col1 INTEGER, ...\n",
      "6     CREATE TABLE tab0(col0 INTEGER, col1 INTEGER, ...\n",
      "7     CREATE TABLE tab0(col0 INTEGER, col1 INTEGER, ...\n",
      "8     CREATE TABLE tab0(col0 INTEGER, col1 INTEGER, ...\n",
      "9     CREATE TABLE tab0(col0 INTEGER, col1 INTEGER, ...\n",
      "10    CREATE TABLE tab0(col0 INTEGER, col1 INTEGER, ...\n",
      "11    CREATE TABLE tab0(col0 INTEGER, col1 INTEGER, ...\n",
      "12    CREATE TABLE tab0(col0 INTEGER, col1 INTEGER, ...\n",
      "Name: LOGS, dtype: object\n"
     ]
    }
   ],
   "source": [
    "from random import randint\n",
    "\n",
    "id = randint(0, len(bugs_df))\n",
    "bug_row = bugs_df.loc[id]\n",
    "log_row = logs_df.loc[int(bug_row.LOGS_INDEX)]\n",
    "print(logs_df.LOGS)\n",
    "dbms_name = 'mysql'  # TODO need add a dbms_name field in the dataframe\n",
    "test_suite = 'sqlite_tests'  # TODO same as above\n"
   ]
  },
  {
   "cell_type": "markdown",
   "metadata": {},
   "source": [
    "## Reproduce an error testcase\n",
    "\n",
    "The following code picks a bug record in the `.csv` file and run on the selected db. Maybe running using the testrunner."
   ]
  },
  {
   "cell_type": "code",
   "execution_count": 33,
   "metadata": {},
   "outputs": [
    {
     "name": "stdout",
     "output_type": "stream",
     "text": [
      "Unnamed: 0                                                  886\n",
      "DBMS_NAME                                                 mysql\n",
      "TESTFILE_INDEX                                                0\n",
      "TESTFILE_PATH      sqlite_tests/random/select/slt_good_104.test\n",
      "TESTCASE_INDEX                                             1073\n",
      "ERROR_SQL           SELECT DISTINCT 42 * col0 FROM tab1 AS cor0\n",
      "CASE_TYPE                                                 Query\n",
      "EXPECTED_RESULT                                 126\\n2688\\n3360\n",
      "ACTUAL_RESULT                                   126\\n2688\\n3360\n",
      "LOGS_INDEX                                                   12\n",
      "DATE                                             22-10-29-13:41\n",
      "EXEC_TIME                                                 524.0\n",
      "Name: 886, dtype: object\n",
      "Unnamed: 0                                                   12\n",
      "BUGS_INDEX                                                  NaN\n",
      "LOGS          CREATE TABLE tab0(col0 INTEGER, col1 INTEGER, ...\n",
      "Name: 12, dtype: object\n",
      "CREATE TABLE tab0(col0 INTEGER, col1 INTEGER, col2 INTEGER);\n",
      "CREATE TABLE tab1(col0 INTEGER, col1 INTEGER, col2 INTEGER);\n",
      "CREATE TABLE tab2(col0 INTEGER, col1 INTEGER, col2 INTEGER);\n",
      "INSERT INTO tab0 VALUES(89,91,82);\n",
      "INSERT INTO tab0 VALUES(35,97,1);\n",
      "INSERT INTO tab0 VALUES(24,86,33);\n",
      "INSERT INTO tab1 VALUES(64,10,57);\n",
      "INSERT INTO tab1 VALUES(3,26,54);\n",
      "INSERT INTO tab1 VALUES(80,13,96);\n",
      "INSERT INTO tab2 VALUES(7,31,27);\n",
      "INSERT INTO tab2 VALUES(79,17,38);\n",
      "INSERT INTO tab2 VALUES(78,59,26)\n",
      "The Expected Result is:\n",
      "126\n",
      "2688\n",
      "3360\n",
      "The Actual Result is:\n",
      "2688\n",
      "126\n",
      "3360\n"
     ]
    }
   ],
   "source": [
    "from src import testrunner\n",
    "\n",
    "if dbms_name == 'sqlite':\n",
    "    r = testrunner.SQLiteRunner()\n",
    "elif dbms_name == 'duckdb':\n",
    "    r = testrunner.DuckDBRunner()\n",
    "elif dbms_name == 'cockroachdb':\n",
    "    r = testrunner.CockroachDBRunner()\n",
    "elif dbms_name == 'mysql':\n",
    "    r = testrunner.MySQLRunner()\n",
    "else:\n",
    "    exit(\"Not implement yet\")\n",
    "    \n",
    "r.connect(\"tempdb\")\n",
    "\n",
    "print(bug_row)\n",
    "print(log_row)\n",
    "print(log_row.LOGS)\n",
    "r.executemany_stmt(log_row.LOGS)\n",
    "\n",
    "\n",
    "print(\"The Expected Result is:\")\n",
    "print(bug_row.EXPECTED_RESULT)\n",
    "print(\"The Actual Result is:\")\n",
    "result = r.execute_query(bug_row.ERROR_SQL)\n",
    "for row in result:\n",
    "    for item in row:\n",
    "        print(item)\n",
    "\n",
    "\n",
    "\n",
    "\n"
   ]
  }
 ],
 "metadata": {
  "kernelspec": {
   "display_name": "Python 3.10.4 64-bit",
   "language": "python",
   "name": "python3"
  },
  "language_info": {
   "codemirror_mode": {
    "name": "ipython",
    "version": 3
   },
   "file_extension": ".py",
   "mimetype": "text/x-python",
   "name": "python",
   "nbconvert_exporter": "python",
   "pygments_lexer": "ipython3",
   "version": "3.10.6"
  },
  "orig_nbformat": 4,
  "vscode": {
   "interpreter": {
    "hash": "916dbcbb3f70747c44a77c7bcd40155683ae19c65e1c03b4aa3499c5328201f1"
   }
  }
 },
 "nbformat": 4,
 "nbformat_minor": 2
}
