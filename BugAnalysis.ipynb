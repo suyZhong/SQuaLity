{
 "cells": [
  {
   "cell_type": "markdown",
   "metadata": {},
   "source": [
    "## Get bugs information from `.csv` files\n",
    "\n",
    "The following part extracts information from the `.csv` files dumped during running test suites on DBMSs."
   ]
  },
  {
   "cell_type": "code",
   "execution_count": 1,
   "metadata": {},
   "outputs": [
    {
     "name": "stdout",
     "output_type": "stream",
     "text": [
      "<class 'pandas.core.frame.DataFrame'>\n",
      "RangeIndex: 119 entries, 0 to 118\n",
      "Data columns (total 9 columns):\n",
      " #   Column           Non-Null Count  Dtype \n",
      "---  ------           --------------  ----- \n",
      " 0   Unnamed: 0       119 non-null    int64 \n",
      " 1   TESTFILE_INDEX   119 non-null    int64 \n",
      " 2   TESTFILE_PATH    119 non-null    object\n",
      " 3   TESTCASE_INDEX   119 non-null    int64 \n",
      " 4   ERROR_SQL        119 non-null    object\n",
      " 5   CASE_TYPE        119 non-null    object\n",
      " 6   EXPECTED_RESULT  119 non-null    object\n",
      " 7   ACTUAL_RESULT    117 non-null    object\n",
      " 8   DATE             119 non-null    object\n",
      "dtypes: int64(3), object(6)\n",
      "memory usage: 8.5+ KB\n",
      "None\n",
      "<class 'pandas.core.frame.DataFrame'>\n",
      "RangeIndex: 119 entries, 0 to 118\n",
      "Data columns (total 3 columns):\n",
      " #   Column      Non-Null Count  Dtype \n",
      "---  ------      --------------  ----- \n",
      " 0   Unnamed: 0  119 non-null    int64 \n",
      " 1   BUGS_INDEX  119 non-null    int64 \n",
      " 2   LOGS        119 non-null    object\n",
      "dtypes: int64(2), object(1)\n",
      "memory usage: 2.9+ KB\n",
      "None\n"
     ]
    }
   ],
   "source": [
    "import pandas as pd\n",
    "\n",
    "bugs_df = pd.read_csv(\"output/demo_bugs.csv\")\n",
    "logs_df = pd.read_csv(\"output/demo_logs.csv\")\n",
    "\n",
    "print(bugs_df.info())\n",
    "print(logs_df.info())\n"
   ]
  },
  {
   "cell_type": "code",
   "execution_count": 2,
   "metadata": {},
   "outputs": [],
   "source": [
    "from random import randint\n",
    "\n",
    "id = randint(0, len(bugs_df))\n",
    "bug_row = bugs_df.loc[id]\n",
    "log_row = logs_df.loc[id]\n",
    "dbms_name = 'duckdb'  # TODO need add a dbms_name field in the dataframe\n",
    "test_suite = 'sqlite_tests'  # TODO same as above\n"
   ]
  },
  {
   "cell_type": "markdown",
   "metadata": {},
   "source": [
    "## Reproduce an error testcase\n",
    "\n",
    "The following code picks a bug record in the `.csv` file and run on the selected db. Maybe running using the testrunner."
   ]
  },
  {
   "cell_type": "code",
   "execution_count": 3,
   "metadata": {},
   "outputs": [
    {
     "name": "stdout",
     "output_type": "stream",
     "text": [
      "Unnamed: 0                                                        37\n",
      "TESTFILE_INDEX                                                   320\n",
      "TESTFILE_PATH              sqlite_tests/random/expr/slt_good_29.test\n",
      "TESTCASE_INDEX                                                  2060\n",
      "ERROR_SQL          SELECT DISTINCT - CASE CAST ( - 91 AS INTEGER ...\n",
      "CASE_TYPE                                                      Query\n",
      "EXPECTED_RESULT                                                   65\n",
      "ACTUAL_RESULT                                                   2104\n",
      "DATE                                                  22-10-26-12:53\n",
      "Name: 37, dtype: object\n",
      "Unnamed: 0                                                   37\n",
      "BUGS_INDEX                                                   37\n",
      "LOGS          CREATE TABLE tab0(col0 INTEGER, col1 INTEGER, ...\n",
      "Name: 37, dtype: object\n",
      "The Expected Result is:\n",
      "65\n",
      "The Actual Result is:\n",
      "2104.5081967213114\n"
     ]
    }
   ],
   "source": [
    "from src import testrunner\n",
    "\n",
    "if dbms_name == 'sqlite':\n",
    "    r = testrunner.SQLiteRunner()\n",
    "elif dbms_name == 'duckdb':\n",
    "    r = testrunner.DuckDBRunner()\n",
    "elif dbms_name == 'cockroachdb':\n",
    "    r = testrunner.CockroachDBRunner()\n",
    "elif dbms_name == 'mysql':\n",
    "    r = testrunner.MySQLRunner()\n",
    "else:\n",
    "    exit(\"Not implement yet\")\n",
    "    \n",
    "r.connect(\":memory:\")\n",
    "\n",
    "print(bug_row)\n",
    "print(log_row)\n",
    "r.executemany_stmt(log_row.LOGS)\n",
    "\n",
    "\n",
    "print(\"The Expected Result is:\")\n",
    "print(bug_row.EXPECTED_RESULT)\n",
    "print(\"The Actual Result is:\")\n",
    "result = r.execute_query(bug_row.ERROR_SQL)\n",
    "for row in result:\n",
    "    for item in row:\n",
    "        print(item)\n",
    "\n",
    "\n",
    "\n",
    "\n"
   ]
  }
 ],
 "metadata": {
  "kernelspec": {
   "display_name": "Python 3.10.4 64-bit",
   "language": "python",
   "name": "python3"
  },
  "language_info": {
   "codemirror_mode": {
    "name": "ipython",
    "version": 3
   },
   "file_extension": ".py",
   "mimetype": "text/x-python",
   "name": "python",
   "nbconvert_exporter": "python",
   "pygments_lexer": "ipython3",
   "version": "3.10.6"
  },
  "orig_nbformat": 4,
  "vscode": {
   "interpreter": {
    "hash": "916dbcbb3f70747c44a77c7bcd40155683ae19c65e1c03b4aa3499c5328201f1"
   }
  }
 },
 "nbformat": 4,
 "nbformat_minor": 2
}
