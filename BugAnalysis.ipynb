{
 "cells": [
  {
   "cell_type": "markdown",
   "metadata": {},
   "source": [
    "## Get bugs information from `.csv` files\n",
    "\n",
    "The following part extracts information from the `.csv` files dumped during running test suites on DBMSs."
   ]
  },
  {
   "cell_type": "code",
   "execution_count": 31,
   "metadata": {},
   "outputs": [
    {
     "name": "stdout",
     "output_type": "stream",
     "text": [
      "<class 'pandas.core.frame.DataFrame'>\n",
      "RangeIndex: 9270 entries, 0 to 9269\n",
      "Data columns (total 12 columns):\n",
      " #   Column           Non-Null Count  Dtype \n",
      "---  ------           --------------  ----- \n",
      " 0   Unnamed: 0       9270 non-null   int64 \n",
      " 1   DBMS_NAME        9270 non-null   object\n",
      " 2   TESTFILE_INDEX   9270 non-null   int64 \n",
      " 3   TESTFILE_PATH    9270 non-null   object\n",
      " 4   TESTCASE_INDEX   9270 non-null   int64 \n",
      " 5   SQL              9270 non-null   object\n",
      " 6   CASE_TYPE        9270 non-null   object\n",
      " 7   EXPECTED_RESULT  8890 non-null   object\n",
      " 8   ACTUAL_RESULT    8921 non-null   object\n",
      " 9   EXEC_TIME        9270 non-null   int64 \n",
      " 10  DATE             9270 non-null   object\n",
      " 11  LOGS_INDEX       9270 non-null   int64 \n",
      "dtypes: int64(5), object(7)\n",
      "memory usage: 869.2+ KB\n",
      "None\n",
      "<class 'pandas.core.frame.DataFrame'>\n",
      "RangeIndex: 1122 entries, 0 to 1121\n",
      "Data columns (total 1 columns):\n",
      " #   Column  Non-Null Count  Dtype \n",
      "---  ------  --------------  ----- \n",
      " 0   LOGS    1118 non-null   object\n",
      "dtypes: object(1)\n",
      "memory usage: 8.9+ KB\n",
      "None\n"
     ]
    }
   ],
   "source": [
    "import pandas as pd\n",
    "\n",
    "bugs_df = pd.read_csv(\"output/mysql_bugs.csv\")\n",
    "logs_df = pd.read_csv(\"output/mysql_logs.csv\")\n",
    "\n",
    "print(bugs_df.info())\n",
    "print(logs_df.info())\n"
   ]
  },
  {
   "cell_type": "code",
   "execution_count": 35,
   "metadata": {},
   "outputs": [
    {
     "name": "stdout",
     "output_type": "stream",
     "text": [
      "0                                                     NaN\n",
      "1       CREATE TABLE t1(a INTEGER, b INTEGER, c INTEGE...\n",
      "2       CREATE TABLE t1(a INTEGER, b INTEGER, c INTEGE...\n",
      "3       CREATE TABLE t1(a INTEGER, b INTEGER, c INTEGE...\n",
      "4       CREATE TABLE t1(a INTEGER, b INTEGER, c INTEGE...\n",
      "                              ...                        \n",
      "1117    CREATE TABLE t1(a INTEGER, b INTEGER, c INTEGE...\n",
      "1118    CREATE TABLE t1(a INTEGER, b INTEGER, c INTEGE...\n",
      "1119    CREATE TABLE t1(a INTEGER, b INTEGER, c INTEGE...\n",
      "1120    CREATE TABLE t1(a INTEGER, b INTEGER, c INTEGE...\n",
      "1121    CREATE TABLE t1(a INTEGER, b INTEGER, c INTEGE...\n",
      "Name: LOGS, Length: 1122, dtype: object\n"
     ]
    }
   ],
   "source": [
    "from random import randint\n",
    "\n",
    "id = 2\n",
    "bug_row = bugs_df.loc[id]\n",
    "log_row = logs_df.loc[int(bug_row.LOGS_INDEX)]\n",
    "print(logs_df.LOGS)\n",
    "dbms_name = 'mysql'  # TODO need add a dbms_name field in the dataframe\n",
    "test_suite = 'sqlite_tests'  # TODO same as above\n"
   ]
  },
  {
   "cell_type": "markdown",
   "metadata": {},
   "source": [
    "## Reproduce an error testcase\n",
    "\n",
    "The following code picks a bug record in the `.csv` file and run on the selected db. Maybe running using the testrunner."
   ]
  },
  {
   "cell_type": "code",
   "execution_count": 36,
   "metadata": {},
   "outputs": [
    {
     "name": "stdout",
     "output_type": "stream",
     "text": [
      "Unnamed: 0                                                         1\n",
      "DBMS_NAME                                                      mysql\n",
      "TESTFILE_INDEX                                                     0\n",
      "TESTFILE_PATH                              sqlite_tests/select1.test\n",
      "TESTCASE_INDEX                                                     1\n",
      "SQL                INSERT INTO t1(e,c,b,d,a) VALUES(103,102,100,1...\n",
      "CASE_TYPE                                                  Statement\n",
      "EXPECTED_RESULT                                                 True\n",
      "ACTUAL_RESULT                                                   True\n",
      "EXEC_TIME                                                        827\n",
      "DATE                                                  22-10-29-16:39\n",
      "LOGS_INDEX                                                         1\n",
      "Name: 1, dtype: object\n",
      "LOGS    CREATE TABLE t1(a INTEGER, b INTEGER, c INTEGE...\n",
      "Name: 1, dtype: object\n",
      "CREATE TABLE t1(a INTEGER, b INTEGER, c INTEGER, d INTEGER, e INTEGER)\n",
      "The Fault SQL is INSERT INTO t1(e,c,b,d,a) VALUES(103,102,100,101,104)\n",
      "The Expected Result is:\n",
      "True\n",
      "The Actual Result is:\n"
     ]
    }
   ],
   "source": [
    "from src import testrunner\n",
    "\n",
    "if dbms_name == 'sqlite':\n",
    "    r = testrunner.SQLiteRunner()\n",
    "elif dbms_name == 'duckdb':\n",
    "    r = testrunner.DuckDBRunner()\n",
    "elif dbms_name == 'cockroachdb':\n",
    "    r = testrunner.CockroachDBRunner()\n",
    "elif dbms_name == 'mysql':\n",
    "    r = testrunner.MySQLRunner()\n",
    "else:\n",
    "    exit(\"Not implement yet\")\n",
    "    \n",
    "r.connect(\"tempdb\")\n",
    "\n",
    "print(bug_row)\n",
    "print(log_row)\n",
    "print(log_row.LOGS)\n",
    "r.executemany_stmt(log_row.LOGS)\n",
    "\n",
    "print(\"The Fault SQL is %s\" % bug_row.SQL)\n",
    "print(\"The Expected Result is:\")\n",
    "print(bug_row.EXPECTED_RESULT)\n",
    "print(\"The Actual Result is:\")\n",
    "result = r.execute_query(bug_row.SQL)\n",
    "for row in result:\n",
    "    for item in row:\n",
    "        print(item)\n",
    "\n",
    "\n",
    "\n",
    "\n"
   ]
  }
 ],
 "metadata": {
  "kernelspec": {
   "display_name": "Python 3.10.4 64-bit",
   "language": "python",
   "name": "python3"
  },
  "language_info": {
   "codemirror_mode": {
    "name": "ipython",
    "version": 3
   },
   "file_extension": ".py",
   "mimetype": "text/x-python",
   "name": "python",
   "nbconvert_exporter": "python",
   "pygments_lexer": "ipython3",
   "version": "3.10.6"
  },
  "orig_nbformat": 4,
  "vscode": {
   "interpreter": {
    "hash": "916dbcbb3f70747c44a77c7bcd40155683ae19c65e1c03b4aa3499c5328201f1"
   }
  }
 },
 "nbformat": 4,
 "nbformat_minor": 2
}
