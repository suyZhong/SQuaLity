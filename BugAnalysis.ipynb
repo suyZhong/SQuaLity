{
 "cells": [
  {
   "cell_type": "code",
   "execution_count": 24,
   "metadata": {},
   "outputs": [],
   "source": [
    "import os\n",
    "import sys\n",
    "# sys.path.append(os.path.dirname(SCRIPDIR))\n",
    "import matplotlib.pyplot as plt\n",
    "import pandas as pd\n"
   ]
  },
  {
   "cell_type": "code",
   "execution_count": 26,
   "metadata": {},
   "outputs": [],
   "source": [
    "# open a csv file and read the content\n",
    "#df = pd.read_csv(\"output/psql_results_dependency.csv\")\n",
    "df = pd.read_csv(\"output/cockroachdb_results_dependency.csv\")\n",
    "condition = (df['IS_ERROR'] == True) & (df['DEPENDENCY'].isna())"
   ]
  },
  {
   "cell_type": "code",
   "execution_count": 42,
   "metadata": {},
   "outputs": [
    {
     "name": "stdout",
     "output_type": "stream",
     "text": [
      "-----------I have the schema generated as follows:---------\n",
      "CREATE TABLE users (   id    INT PRIMARY KEY,   name  VARCHAR NOT NULL,   title VARCHAR,   INDEX foo (name),   UNIQUE INDEX bar (id, name),   INDEX baw (name, title) ) ;\n",
      "CREATE TABLE othertable (    x INT,    y INT,    INDEX baw (x),    INDEX yak (y, x) ) ;\n",
      "DROP INDEX baw ;\n",
      "DROP INDEX IF EXISTS baw ;\n",
      "DROP INDEX ark ;\n",
      "DROP INDEX IF EXISTS ark ;\n",
      "DROP INDEX users@ark ;\n",
      "DROP INDEX IF EXISTS users@ark ;\n",
      "DROP INDEX yak ;\n",
      "CREATE INDEX yak ON othertable (y, x) ;\n",
      "DROP INDEX IF EXISTS yak ;\n",
      "DROP TABLE othertable ;\n",
      "DROP INDEX baw ;\n",
      "INSERT INTO users VALUES (1, 'tom', 'cat'),(2, 'jerry', 'rat') ;\n",
      "DROP INDEX users@zap ;\n",
      "DROP INDEX IF EXISTS users@zap ;\n",
      "DROP INDEX IF EXISTS users@foo, users@zap ;\n",
      "DROP INDEX users@bar ;\n",
      "GRANT CREATE ON TABLE users TO testuser ;\n",
      "DROP INDEX users@bar ;\n",
      "DROP INDEX users@bar RESTRICT ;\n",
      "DROP INDEX users@bar CASCADE ;\n",
      "CREATE INDEX foo ON users (name) ;\n",
      "CREATE INDEX bar ON users (title) ;\n",
      "CREATE INDEX baz ON users (name, title) ;\n",
      "DROP INDEX IF EXISTS users@invalid, users@baz ;\n",
      "CREATE VIEW v AS SELECT name FROM users@{FORCE_INDEX=foo} ;\n",
      "DROP INDEX users@foo ;\n",
      "DROP INDEX users@bar ;\n",
      "CREATE VIEW v2 AS SELECT name FROM v ;\n",
      "GRANT ALL ON users to testuser ;\n",
      "GRANT ALL ON v to testuser ;\n",
      "DROP INDEX users@foo CASCADE ;\n",
      "DROP INDEX users@foo CASCADE ;\n",
      "CREATE TABLE tbl (c string) ;\n",
      "CREATE INDEX expr_idx ON tbl(lower(c)) ;\n",
      "DROP INDEX expr_idx ;\n",
      "CREATE INDEX baz ON users (name) ;\n",
      "DROP INDEX IF EXISTS baz, zap ;\n",
      "DROP INDEX IF EXISTS baz ;\n",
      "CREATE DATABASE view_test ;\n",
      "SET DATABASE = view_test ;\n",
      "CREATE TABLE t (id INT) ;\n",
      "CREATE VIEW v AS SELECT id FROM t ;\n",
      "DROP INDEX nonexistent_index ;\n",
      "CREATE DATABASE sequence_test ;\n",
      "SET DATABASE = sequence_test ;\n",
      "CREATE SEQUENCE s ;\n",
      "DROP INDEX nonexistent_index ;\n",
      "CREATE TABLE tu (a INT UNIQUE) ;\n",
      "CREATE UNIQUE INDEX tu_a ON tu(a) ;\n",
      "DROP INDEX tu_a_key ;\n",
      "DROP INDEX tu_a ;\n",
      "-----------The SQL commands is:---------\n",
      "GRANT ALL ON v to testuser\n",
      "-----------The expected result is:---------\n",
      "nan\n",
      "-----------The actual result is:---------\n",
      "False\n",
      "-----------The error message is:---------\n",
      "role/user \"testuser\" does not exist\n",
      "\n"
     ]
    }
   ],
   "source": [
    "# sample = df[condition].sample()\n",
    "sample = df[condition & df['ERROR_REASON'].isna()].sample()\n",
    "print(\"-----------I have the schema generated as follows:---------\")\n",
    "temp_df = df[df['TESTFILE_PATH'] == sample['TESTFILE_PATH'].values[0]]\n",
    "for sql in temp_df[temp_df['CASE_TYPE'] == 'Statement']['SQL']:\n",
    "    print(sql,\";\")\n",
    "print(\"-----------The SQL commands is:---------\")\n",
    "print(sample.SQL.values[0])\n",
    "print(\"-----------The expected result is:---------\")\n",
    "print(sample.EXPECTED_RESULT.values[0])\n",
    "print(\"-----------The actual result is:---------\")\n",
    "print(sample.ACTUAL_RESULT.values[0])\n",
    "print(\"-----------The error message is:---------\")\n",
    "print(sample.ERROR_MSG.values[0])\n"
   ]
  },
  {
   "cell_type": "code",
   "execution_count": 35,
   "metadata": {},
   "outputs": [
    {
     "data": {
      "text/plain": [
       "'cockroachdb_tests/logic_test/alter_default_privileges_with_grant_option'"
      ]
     },
     "execution_count": 35,
     "metadata": {},
     "output_type": "execute_result"
    }
   ],
   "source": [
    "sample['TESTFILE_PATH'].values[0]"
   ]
  },
  {
   "cell_type": "code",
   "execution_count": 43,
   "metadata": {},
   "outputs": [
    {
     "name": "stdout",
     "output_type": "stream",
     "text": [
      "The autoreload extension is already loaded. To reload it, use:\n",
      "  %reload_ext autoreload\n"
     ]
    }
   ],
   "source": [
    "%load_ext autoreload\n",
    "%autoreload 2"
   ]
  },
  {
   "cell_type": "code",
   "execution_count": 44,
   "metadata": {},
   "outputs": [
    {
     "name": "stdout",
     "output_type": "stream",
     "text": [
      "{'CLUSTER': <function <lambda> at 0x7f962c162e50>, 'REGRESS': <function <lambda> at 0x7f9649354550>, 'DATATYPE': <function <lambda> at 0x7f962b0cad30>, 'LOCK_TIMEOUT': <function <lambda> at 0x7f962b0ca5e0>, 'PG_CATALOG': <function <lambda> at 0x7f962b0ca040>, 'EXISTING_USER': <function <lambda> at 0x7f9640011ee0>, 'AUTH_FAIL': <function <lambda> at 0x7f9640011e50>, 'NO_USER': <function <lambda> at 0x7f962b050a60>}\n",
      "REGRESS\n",
      "<class 'pandas.core.frame.DataFrame'>\n",
      "Int64Index: 0 entries\n",
      "Data columns (total 18 columns):\n",
      " #   Column           Non-Null Count  Dtype  \n",
      "---  ------           --------------  -----  \n",
      " 0   Unnamed: 0       0 non-null      int64  \n",
      " 1   DBMS_NAME        0 non-null      object \n",
      " 2   TESTFILE_INDEX   0 non-null      int64  \n",
      " 3   TESTFILE_PATH    0 non-null      object \n",
      " 4   ORIGINAL_SUITE   0 non-null      float64\n",
      " 5   TESTCASE_INDEX   0 non-null      int64  \n",
      " 6   SQL              0 non-null      object \n",
      " 7   CASE_TYPE        0 non-null      object \n",
      " 8   EXPECTED_RESULT  0 non-null      object \n",
      " 9   ACTUAL_RESULT    0 non-null      object \n",
      " 10  EXEC_TIME        0 non-null      int64  \n",
      " 11  DATE             0 non-null      object \n",
      " 12  IS_ERROR         0 non-null      bool   \n",
      " 13  ERROR_MSG        0 non-null      object \n",
      " 14  USER             0 non-null      object \n",
      " 15  LOGS_INDEX       0 non-null      int64  \n",
      " 16  ERROR_REASON     0 non-null      object \n",
      " 17  DEPENDENCY       0 non-null      object \n",
      "dtypes: bool(1), float64(1), int64(5), object(11)\n",
      "memory usage: 0.0+ bytes\n",
      "None\n",
      "Tag COLLATION is not in the test filter, implement it first!\n",
      "DATATYPE\n",
      "<class 'pandas.core.frame.DataFrame'>\n",
      "Int64Index: 65 entries, 635 to 11374\n",
      "Data columns (total 18 columns):\n",
      " #   Column           Non-Null Count  Dtype  \n",
      "---  ------           --------------  -----  \n",
      " 0   Unnamed: 0       65 non-null     int64  \n",
      " 1   DBMS_NAME        65 non-null     object \n",
      " 2   TESTFILE_INDEX   65 non-null     int64  \n",
      " 3   TESTFILE_PATH    65 non-null     object \n",
      " 4   ORIGINAL_SUITE   0 non-null      float64\n",
      " 5   TESTCASE_INDEX   65 non-null     int64  \n",
      " 6   SQL              65 non-null     object \n",
      " 7   CASE_TYPE        65 non-null     object \n",
      " 8   EXPECTED_RESULT  65 non-null     object \n",
      " 9   ACTUAL_RESULT    65 non-null     object \n",
      " 10  EXEC_TIME        65 non-null     int64  \n",
      " 11  DATE             65 non-null     object \n",
      " 12  IS_ERROR         65 non-null     bool   \n",
      " 13  ERROR_MSG        65 non-null     object \n",
      " 14  USER             65 non-null     object \n",
      " 15  LOGS_INDEX       65 non-null     int64  \n",
      " 16  ERROR_REASON     65 non-null     object \n",
      " 17  DEPENDENCY       0 non-null      object \n",
      "dtypes: bool(1), float64(1), int64(5), object(11)\n",
      "memory usage: 9.2+ KB\n",
      "None\n",
      "LOCK_TIMEOUT\n",
      "<class 'pandas.core.frame.DataFrame'>\n",
      "Int64Index: 6 entries, 6793 to 6803\n",
      "Data columns (total 18 columns):\n",
      " #   Column           Non-Null Count  Dtype  \n",
      "---  ------           --------------  -----  \n",
      " 0   Unnamed: 0       6 non-null      int64  \n",
      " 1   DBMS_NAME        6 non-null      object \n",
      " 2   TESTFILE_INDEX   6 non-null      int64  \n",
      " 3   TESTFILE_PATH    6 non-null      object \n",
      " 4   ORIGINAL_SUITE   0 non-null      float64\n",
      " 5   TESTCASE_INDEX   6 non-null      int64  \n",
      " 6   SQL              6 non-null      object \n",
      " 7   CASE_TYPE        6 non-null      object \n",
      " 8   EXPECTED_RESULT  6 non-null      object \n",
      " 9   ACTUAL_RESULT    6 non-null      object \n",
      " 10  EXEC_TIME        6 non-null      int64  \n",
      " 11  DATE             6 non-null      object \n",
      " 12  IS_ERROR         6 non-null      bool   \n",
      " 13  ERROR_MSG        6 non-null      object \n",
      " 14  USER             6 non-null      object \n",
      " 15  LOGS_INDEX       6 non-null      int64  \n",
      " 16  ERROR_REASON     6 non-null      object \n",
      " 17  DEPENDENCY       0 non-null      object \n",
      "dtypes: bool(1), float64(1), int64(5), object(11)\n",
      "memory usage: 870.0+ bytes\n",
      "None\n",
      "PG_CATALOG\n",
      "<class 'pandas.core.frame.DataFrame'>\n",
      "Int64Index: 23 entries, 4435 to 10533\n",
      "Data columns (total 18 columns):\n",
      " #   Column           Non-Null Count  Dtype  \n",
      "---  ------           --------------  -----  \n",
      " 0   Unnamed: 0       23 non-null     int64  \n",
      " 1   DBMS_NAME        23 non-null     object \n",
      " 2   TESTFILE_INDEX   23 non-null     int64  \n",
      " 3   TESTFILE_PATH    23 non-null     object \n",
      " 4   ORIGINAL_SUITE   0 non-null      float64\n",
      " 5   TESTCASE_INDEX   23 non-null     int64  \n",
      " 6   SQL              23 non-null     object \n",
      " 7   CASE_TYPE        23 non-null     object \n",
      " 8   EXPECTED_RESULT  22 non-null     object \n",
      " 9   ACTUAL_RESULT    18 non-null     object \n",
      " 10  EXEC_TIME        23 non-null     int64  \n",
      " 11  DATE             23 non-null     object \n",
      " 12  IS_ERROR         23 non-null     bool   \n",
      " 13  ERROR_MSG        23 non-null     object \n",
      " 14  USER             23 non-null     object \n",
      " 15  LOGS_INDEX       23 non-null     int64  \n",
      " 16  ERROR_REASON     23 non-null     object \n",
      " 17  DEPENDENCY       0 non-null      object \n",
      "dtypes: bool(1), float64(1), int64(5), object(11)\n",
      "memory usage: 3.3+ KB\n",
      "None\n",
      "EXISTING_USER\n",
      "<class 'pandas.core.frame.DataFrame'>\n",
      "Int64Index: 32 entries, 1328 to 11763\n",
      "Data columns (total 18 columns):\n",
      " #   Column           Non-Null Count  Dtype  \n",
      "---  ------           --------------  -----  \n",
      " 0   Unnamed: 0       32 non-null     int64  \n",
      " 1   DBMS_NAME        32 non-null     object \n",
      " 2   TESTFILE_INDEX   32 non-null     int64  \n",
      " 3   TESTFILE_PATH    32 non-null     object \n",
      " 4   ORIGINAL_SUITE   0 non-null      float64\n",
      " 5   TESTCASE_INDEX   32 non-null     int64  \n",
      " 6   SQL              32 non-null     object \n",
      " 7   CASE_TYPE        32 non-null     object \n",
      " 8   EXPECTED_RESULT  0 non-null      object \n",
      " 9   ACTUAL_RESULT    32 non-null     object \n",
      " 10  EXEC_TIME        32 non-null     int64  \n",
      " 11  DATE             32 non-null     object \n",
      " 12  IS_ERROR         32 non-null     bool   \n",
      " 13  ERROR_MSG        32 non-null     object \n",
      " 14  USER             32 non-null     object \n",
      " 15  LOGS_INDEX       32 non-null     int64  \n",
      " 16  ERROR_REASON     32 non-null     object \n",
      " 17  DEPENDENCY       0 non-null      object \n",
      "dtypes: bool(1), float64(1), int64(5), object(11)\n",
      "memory usage: 4.5+ KB\n",
      "None\n",
      "AUTH_FAIL\n",
      "<class 'pandas.core.frame.DataFrame'>\n",
      "Int64Index: 128 entries, 218 to 9452\n",
      "Data columns (total 18 columns):\n",
      " #   Column           Non-Null Count  Dtype  \n",
      "---  ------           --------------  -----  \n",
      " 0   Unnamed: 0       128 non-null    int64  \n",
      " 1   DBMS_NAME        128 non-null    object \n",
      " 2   TESTFILE_INDEX   128 non-null    int64  \n",
      " 3   TESTFILE_PATH    128 non-null    object \n",
      " 4   ORIGINAL_SUITE   0 non-null      float64\n",
      " 5   TESTCASE_INDEX   128 non-null    int64  \n",
      " 6   SQL              128 non-null    object \n",
      " 7   CASE_TYPE        128 non-null    object \n",
      " 8   EXPECTED_RESULT  120 non-null    object \n",
      " 9   ACTUAL_RESULT    128 non-null    object \n",
      " 10  EXEC_TIME        128 non-null    int64  \n",
      " 11  DATE             128 non-null    object \n",
      " 12  IS_ERROR         128 non-null    bool   \n",
      " 13  ERROR_MSG        128 non-null    object \n",
      " 14  USER             128 non-null    object \n",
      " 15  LOGS_INDEX       128 non-null    int64  \n",
      " 16  ERROR_REASON     128 non-null    object \n",
      " 17  DEPENDENCY       0 non-null      object \n",
      "dtypes: bool(1), float64(1), int64(5), object(11)\n",
      "memory usage: 18.1+ KB\n",
      "None\n",
      "NO_USER\n",
      "<class 'pandas.core.frame.DataFrame'>\n",
      "Int64Index: 330 entries, 215 to 10211\n",
      "Data columns (total 18 columns):\n",
      " #   Column           Non-Null Count  Dtype  \n",
      "---  ------           --------------  -----  \n",
      " 0   Unnamed: 0       330 non-null    int64  \n",
      " 1   DBMS_NAME        330 non-null    object \n",
      " 2   TESTFILE_INDEX   330 non-null    int64  \n",
      " 3   TESTFILE_PATH    330 non-null    object \n",
      " 4   ORIGINAL_SUITE   0 non-null      float64\n",
      " 5   TESTCASE_INDEX   330 non-null    int64  \n",
      " 6   SQL              330 non-null    object \n",
      " 7   CASE_TYPE        330 non-null    object \n",
      " 8   EXPECTED_RESULT  12 non-null     object \n",
      " 9   ACTUAL_RESULT    330 non-null    object \n",
      " 10  EXEC_TIME        330 non-null    int64  \n",
      " 11  DATE             330 non-null    object \n",
      " 12  IS_ERROR         330 non-null    bool   \n",
      " 13  ERROR_MSG        330 non-null    object \n",
      " 14  USER             330 non-null    object \n",
      " 15  LOGS_INDEX       330 non-null    int64  \n",
      " 16  ERROR_REASON     330 non-null    object \n",
      " 17  DEPENDENCY       0 non-null      object \n",
      "dtypes: bool(1), float64(1), int64(5), object(11)\n",
      "memory usage: 46.7+ KB\n",
      "None\n"
     ]
    }
   ],
   "source": [
    "from src import testanalyzer\n",
    "\n",
    "print(testanalyzer.TEST_FILTER)\n",
    "reasons = pd.read_csv(\"data/error_reasons.csv\")\n",
    "tags = reasons['TAG'].values.tolist()\n",
    "for tag in tags:\n",
    "    if tag not in testanalyzer.TEST_FILTER:\n",
    "        print(f\"Tag {tag} is not in the test filter, implement it first!\")\n",
    "        continue\n",
    "    df.loc[df.apply(testanalyzer.TEST_FILTER[tag], axis=1) & condition, 'ERROR_REASON'] = tag\n",
    "    print(tag)\n",
    "    print(df[df['ERROR_REASON']==tag].info())"
   ]
  },
  {
   "cell_type": "code",
   "execution_count": 45,
   "metadata": {},
   "outputs": [],
   "source": [
    "df.to_csv(\"output/cockroachdb_results_dependency.csv\")"
   ]
  },
  {
   "cell_type": "code",
   "execution_count": 50,
   "metadata": {},
   "outputs": [
    {
     "data": {
      "text/plain": [
       "1034"
      ]
     },
     "execution_count": 50,
     "metadata": {},
     "output_type": "execute_result"
    }
   ],
   "source": [
    "len(df[~df['ERROR_REASON'].isnull()])"
   ]
  },
  {
   "cell_type": "code",
   "execution_count": 7,
   "metadata": {},
   "outputs": [
    {
     "name": "stdout",
     "output_type": "stream",
     "text": [
      "Collecting fuzzywuzzy\n",
      "  Using cached fuzzywuzzy-0.18.0-py2.py3-none-any.whl (18 kB)\n",
      "Installing collected packages: fuzzywuzzy\n",
      "Successfully installed fuzzywuzzy-0.18.0\n",
      "\n",
      "\u001b[1m[\u001b[0m\u001b[34;49mnotice\u001b[0m\u001b[1;39;49m]\u001b[0m\u001b[39;49m A new release of pip available: \u001b[0m\u001b[31;49m22.1.2\u001b[0m\u001b[39;49m -> \u001b[0m\u001b[32;49m23.0.1\u001b[0m\n",
      "\u001b[1m[\u001b[0m\u001b[34;49mnotice\u001b[0m\u001b[1;39;49m]\u001b[0m\u001b[39;49m To update, run: \u001b[0m\u001b[32;49mpip install --upgrade pip\u001b[0m\n"
     ]
    }
   ],
   "source": [
    "!pip install fuzzywuzzy\n"
   ]
  },
  {
   "cell_type": "code",
   "execution_count": null,
   "metadata": {},
   "outputs": [],
   "source": []
  }
 ],
 "metadata": {
  "kernelspec": {
   "display_name": "Python 3 (ipykernel)",
   "language": "python",
   "name": "python3"
  },
  "language_info": {
   "codemirror_mode": {
    "name": "ipython",
    "version": 3
   },
   "file_extension": ".py",
   "mimetype": "text/x-python",
   "name": "python",
   "nbconvert_exporter": "python",
   "pygments_lexer": "ipython3",
   "version": "3.9.7"
  }
 },
 "nbformat": 4,
 "nbformat_minor": 2
}
