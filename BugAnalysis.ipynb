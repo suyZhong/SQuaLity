{
 "cells": [
  {
   "cell_type": "code",
   "execution_count": 51,
   "metadata": {},
   "outputs": [],
   "source": [
    "import os\n",
    "import sys\n",
    "# sys.path.append(os.path.dirname(SCRIPDIR))\n",
    "import matplotlib.pyplot as plt\n",
    "import pandas as pd\n"
   ]
  },
  {
   "cell_type": "code",
   "execution_count": 52,
   "metadata": {},
   "outputs": [
    {
     "ename": "FileNotFoundError",
     "evalue": "[Errno 2] No such file or directory: 'output/cockroachdb_results_dependency.csv'",
     "output_type": "error",
     "traceback": [
      "\u001b[0;31m---------------------------------------------------------------------------\u001b[0m",
      "\u001b[0;31mFileNotFoundError\u001b[0m                         Traceback (most recent call last)",
      "Input \u001b[0;32mIn [52]\u001b[0m, in \u001b[0;36m<cell line: 3>\u001b[0;34m()\u001b[0m\n\u001b[1;32m      1\u001b[0m \u001b[38;5;66;03m# open a csv file and read the content\u001b[39;00m\n\u001b[1;32m      2\u001b[0m \u001b[38;5;66;03m#df = pd.read_csv(\"output/psql_results_dependency.csv\")\u001b[39;00m\n\u001b[0;32m----> 3\u001b[0m df \u001b[38;5;241m=\u001b[39m \u001b[43mpd\u001b[49m\u001b[38;5;241;43m.\u001b[39;49m\u001b[43mread_csv\u001b[49m\u001b[43m(\u001b[49m\u001b[38;5;124;43m\"\u001b[39;49m\u001b[38;5;124;43moutput/cockroachdb_results_dependency.csv\u001b[39;49m\u001b[38;5;124;43m\"\u001b[39;49m\u001b[43m)\u001b[49m\n\u001b[1;32m      4\u001b[0m condition \u001b[38;5;241m=\u001b[39m (df[\u001b[38;5;124m'\u001b[39m\u001b[38;5;124mIS_ERROR\u001b[39m\u001b[38;5;124m'\u001b[39m] \u001b[38;5;241m==\u001b[39m \u001b[38;5;28;01mTrue\u001b[39;00m) \u001b[38;5;241m&\u001b[39m (df[\u001b[38;5;124m'\u001b[39m\u001b[38;5;124mDEPENDENCY\u001b[39m\u001b[38;5;124m'\u001b[39m]\u001b[38;5;241m.\u001b[39misna())\n",
      "File \u001b[0;32m~/miniconda3/lib/python3.9/site-packages/pandas/util/_decorators.py:211\u001b[0m, in \u001b[0;36mdeprecate_kwarg.<locals>._deprecate_kwarg.<locals>.wrapper\u001b[0;34m(*args, **kwargs)\u001b[0m\n\u001b[1;32m    209\u001b[0m     \u001b[38;5;28;01melse\u001b[39;00m:\n\u001b[1;32m    210\u001b[0m         kwargs[new_arg_name] \u001b[38;5;241m=\u001b[39m new_arg_value\n\u001b[0;32m--> 211\u001b[0m \u001b[38;5;28;01mreturn\u001b[39;00m \u001b[43mfunc\u001b[49m\u001b[43m(\u001b[49m\u001b[38;5;241;43m*\u001b[39;49m\u001b[43margs\u001b[49m\u001b[43m,\u001b[49m\u001b[43m \u001b[49m\u001b[38;5;241;43m*\u001b[39;49m\u001b[38;5;241;43m*\u001b[39;49m\u001b[43mkwargs\u001b[49m\u001b[43m)\u001b[49m\n",
      "File \u001b[0;32m~/miniconda3/lib/python3.9/site-packages/pandas/util/_decorators.py:317\u001b[0m, in \u001b[0;36mdeprecate_nonkeyword_arguments.<locals>.decorate.<locals>.wrapper\u001b[0;34m(*args, **kwargs)\u001b[0m\n\u001b[1;32m    311\u001b[0m \u001b[38;5;28;01mif\u001b[39;00m \u001b[38;5;28mlen\u001b[39m(args) \u001b[38;5;241m>\u001b[39m num_allow_args:\n\u001b[1;32m    312\u001b[0m     warnings\u001b[38;5;241m.\u001b[39mwarn(\n\u001b[1;32m    313\u001b[0m         msg\u001b[38;5;241m.\u001b[39mformat(arguments\u001b[38;5;241m=\u001b[39marguments),\n\u001b[1;32m    314\u001b[0m         \u001b[38;5;167;01mFutureWarning\u001b[39;00m,\n\u001b[1;32m    315\u001b[0m         stacklevel\u001b[38;5;241m=\u001b[39mfind_stack_level(inspect\u001b[38;5;241m.\u001b[39mcurrentframe()),\n\u001b[1;32m    316\u001b[0m     )\n\u001b[0;32m--> 317\u001b[0m \u001b[38;5;28;01mreturn\u001b[39;00m \u001b[43mfunc\u001b[49m\u001b[43m(\u001b[49m\u001b[38;5;241;43m*\u001b[39;49m\u001b[43margs\u001b[49m\u001b[43m,\u001b[49m\u001b[43m \u001b[49m\u001b[38;5;241;43m*\u001b[39;49m\u001b[38;5;241;43m*\u001b[39;49m\u001b[43mkwargs\u001b[49m\u001b[43m)\u001b[49m\n",
      "File \u001b[0;32m~/miniconda3/lib/python3.9/site-packages/pandas/io/parsers/readers.py:950\u001b[0m, in \u001b[0;36mread_csv\u001b[0;34m(filepath_or_buffer, sep, delimiter, header, names, index_col, usecols, squeeze, prefix, mangle_dupe_cols, dtype, engine, converters, true_values, false_values, skipinitialspace, skiprows, skipfooter, nrows, na_values, keep_default_na, na_filter, verbose, skip_blank_lines, parse_dates, infer_datetime_format, keep_date_col, date_parser, dayfirst, cache_dates, iterator, chunksize, compression, thousands, decimal, lineterminator, quotechar, quoting, doublequote, escapechar, comment, encoding, encoding_errors, dialect, error_bad_lines, warn_bad_lines, on_bad_lines, delim_whitespace, low_memory, memory_map, float_precision, storage_options)\u001b[0m\n\u001b[1;32m    935\u001b[0m kwds_defaults \u001b[38;5;241m=\u001b[39m _refine_defaults_read(\n\u001b[1;32m    936\u001b[0m     dialect,\n\u001b[1;32m    937\u001b[0m     delimiter,\n\u001b[0;32m   (...)\u001b[0m\n\u001b[1;32m    946\u001b[0m     defaults\u001b[38;5;241m=\u001b[39m{\u001b[38;5;124m\"\u001b[39m\u001b[38;5;124mdelimiter\u001b[39m\u001b[38;5;124m\"\u001b[39m: \u001b[38;5;124m\"\u001b[39m\u001b[38;5;124m,\u001b[39m\u001b[38;5;124m\"\u001b[39m},\n\u001b[1;32m    947\u001b[0m )\n\u001b[1;32m    948\u001b[0m kwds\u001b[38;5;241m.\u001b[39mupdate(kwds_defaults)\n\u001b[0;32m--> 950\u001b[0m \u001b[38;5;28;01mreturn\u001b[39;00m \u001b[43m_read\u001b[49m\u001b[43m(\u001b[49m\u001b[43mfilepath_or_buffer\u001b[49m\u001b[43m,\u001b[49m\u001b[43m \u001b[49m\u001b[43mkwds\u001b[49m\u001b[43m)\u001b[49m\n",
      "File \u001b[0;32m~/miniconda3/lib/python3.9/site-packages/pandas/io/parsers/readers.py:605\u001b[0m, in \u001b[0;36m_read\u001b[0;34m(filepath_or_buffer, kwds)\u001b[0m\n\u001b[1;32m    602\u001b[0m _validate_names(kwds\u001b[38;5;241m.\u001b[39mget(\u001b[38;5;124m\"\u001b[39m\u001b[38;5;124mnames\u001b[39m\u001b[38;5;124m\"\u001b[39m, \u001b[38;5;28;01mNone\u001b[39;00m))\n\u001b[1;32m    604\u001b[0m \u001b[38;5;66;03m# Create the parser.\u001b[39;00m\n\u001b[0;32m--> 605\u001b[0m parser \u001b[38;5;241m=\u001b[39m \u001b[43mTextFileReader\u001b[49m\u001b[43m(\u001b[49m\u001b[43mfilepath_or_buffer\u001b[49m\u001b[43m,\u001b[49m\u001b[43m \u001b[49m\u001b[38;5;241;43m*\u001b[39;49m\u001b[38;5;241;43m*\u001b[39;49m\u001b[43mkwds\u001b[49m\u001b[43m)\u001b[49m\n\u001b[1;32m    607\u001b[0m \u001b[38;5;28;01mif\u001b[39;00m chunksize \u001b[38;5;129;01mor\u001b[39;00m iterator:\n\u001b[1;32m    608\u001b[0m     \u001b[38;5;28;01mreturn\u001b[39;00m parser\n",
      "File \u001b[0;32m~/miniconda3/lib/python3.9/site-packages/pandas/io/parsers/readers.py:1442\u001b[0m, in \u001b[0;36mTextFileReader.__init__\u001b[0;34m(self, f, engine, **kwds)\u001b[0m\n\u001b[1;32m   1439\u001b[0m     \u001b[38;5;28mself\u001b[39m\u001b[38;5;241m.\u001b[39moptions[\u001b[38;5;124m\"\u001b[39m\u001b[38;5;124mhas_index_names\u001b[39m\u001b[38;5;124m\"\u001b[39m] \u001b[38;5;241m=\u001b[39m kwds[\u001b[38;5;124m\"\u001b[39m\u001b[38;5;124mhas_index_names\u001b[39m\u001b[38;5;124m\"\u001b[39m]\n\u001b[1;32m   1441\u001b[0m \u001b[38;5;28mself\u001b[39m\u001b[38;5;241m.\u001b[39mhandles: IOHandles \u001b[38;5;241m|\u001b[39m \u001b[38;5;28;01mNone\u001b[39;00m \u001b[38;5;241m=\u001b[39m \u001b[38;5;28;01mNone\u001b[39;00m\n\u001b[0;32m-> 1442\u001b[0m \u001b[38;5;28mself\u001b[39m\u001b[38;5;241m.\u001b[39m_engine \u001b[38;5;241m=\u001b[39m \u001b[38;5;28;43mself\u001b[39;49m\u001b[38;5;241;43m.\u001b[39;49m\u001b[43m_make_engine\u001b[49m\u001b[43m(\u001b[49m\u001b[43mf\u001b[49m\u001b[43m,\u001b[49m\u001b[43m \u001b[49m\u001b[38;5;28;43mself\u001b[39;49m\u001b[38;5;241;43m.\u001b[39;49m\u001b[43mengine\u001b[49m\u001b[43m)\u001b[49m\n",
      "File \u001b[0;32m~/miniconda3/lib/python3.9/site-packages/pandas/io/parsers/readers.py:1729\u001b[0m, in \u001b[0;36mTextFileReader._make_engine\u001b[0;34m(self, f, engine)\u001b[0m\n\u001b[1;32m   1727\u001b[0m     is_text \u001b[38;5;241m=\u001b[39m \u001b[38;5;28;01mFalse\u001b[39;00m\n\u001b[1;32m   1728\u001b[0m     mode \u001b[38;5;241m=\u001b[39m \u001b[38;5;124m\"\u001b[39m\u001b[38;5;124mrb\u001b[39m\u001b[38;5;124m\"\u001b[39m\n\u001b[0;32m-> 1729\u001b[0m \u001b[38;5;28mself\u001b[39m\u001b[38;5;241m.\u001b[39mhandles \u001b[38;5;241m=\u001b[39m \u001b[43mget_handle\u001b[49m\u001b[43m(\u001b[49m\n\u001b[1;32m   1730\u001b[0m \u001b[43m    \u001b[49m\u001b[43mf\u001b[49m\u001b[43m,\u001b[49m\n\u001b[1;32m   1731\u001b[0m \u001b[43m    \u001b[49m\u001b[43mmode\u001b[49m\u001b[43m,\u001b[49m\n\u001b[1;32m   1732\u001b[0m \u001b[43m    \u001b[49m\u001b[43mencoding\u001b[49m\u001b[38;5;241;43m=\u001b[39;49m\u001b[38;5;28;43mself\u001b[39;49m\u001b[38;5;241;43m.\u001b[39;49m\u001b[43moptions\u001b[49m\u001b[38;5;241;43m.\u001b[39;49m\u001b[43mget\u001b[49m\u001b[43m(\u001b[49m\u001b[38;5;124;43m\"\u001b[39;49m\u001b[38;5;124;43mencoding\u001b[39;49m\u001b[38;5;124;43m\"\u001b[39;49m\u001b[43m,\u001b[49m\u001b[43m \u001b[49m\u001b[38;5;28;43;01mNone\u001b[39;49;00m\u001b[43m)\u001b[49m\u001b[43m,\u001b[49m\n\u001b[1;32m   1733\u001b[0m \u001b[43m    \u001b[49m\u001b[43mcompression\u001b[49m\u001b[38;5;241;43m=\u001b[39;49m\u001b[38;5;28;43mself\u001b[39;49m\u001b[38;5;241;43m.\u001b[39;49m\u001b[43moptions\u001b[49m\u001b[38;5;241;43m.\u001b[39;49m\u001b[43mget\u001b[49m\u001b[43m(\u001b[49m\u001b[38;5;124;43m\"\u001b[39;49m\u001b[38;5;124;43mcompression\u001b[39;49m\u001b[38;5;124;43m\"\u001b[39;49m\u001b[43m,\u001b[49m\u001b[43m \u001b[49m\u001b[38;5;28;43;01mNone\u001b[39;49;00m\u001b[43m)\u001b[49m\u001b[43m,\u001b[49m\n\u001b[1;32m   1734\u001b[0m \u001b[43m    \u001b[49m\u001b[43mmemory_map\u001b[49m\u001b[38;5;241;43m=\u001b[39;49m\u001b[38;5;28;43mself\u001b[39;49m\u001b[38;5;241;43m.\u001b[39;49m\u001b[43moptions\u001b[49m\u001b[38;5;241;43m.\u001b[39;49m\u001b[43mget\u001b[49m\u001b[43m(\u001b[49m\u001b[38;5;124;43m\"\u001b[39;49m\u001b[38;5;124;43mmemory_map\u001b[39;49m\u001b[38;5;124;43m\"\u001b[39;49m\u001b[43m,\u001b[49m\u001b[43m \u001b[49m\u001b[38;5;28;43;01mFalse\u001b[39;49;00m\u001b[43m)\u001b[49m\u001b[43m,\u001b[49m\n\u001b[1;32m   1735\u001b[0m \u001b[43m    \u001b[49m\u001b[43mis_text\u001b[49m\u001b[38;5;241;43m=\u001b[39;49m\u001b[43mis_text\u001b[49m\u001b[43m,\u001b[49m\n\u001b[1;32m   1736\u001b[0m \u001b[43m    \u001b[49m\u001b[43merrors\u001b[49m\u001b[38;5;241;43m=\u001b[39;49m\u001b[38;5;28;43mself\u001b[39;49m\u001b[38;5;241;43m.\u001b[39;49m\u001b[43moptions\u001b[49m\u001b[38;5;241;43m.\u001b[39;49m\u001b[43mget\u001b[49m\u001b[43m(\u001b[49m\u001b[38;5;124;43m\"\u001b[39;49m\u001b[38;5;124;43mencoding_errors\u001b[39;49m\u001b[38;5;124;43m\"\u001b[39;49m\u001b[43m,\u001b[49m\u001b[43m \u001b[49m\u001b[38;5;124;43m\"\u001b[39;49m\u001b[38;5;124;43mstrict\u001b[39;49m\u001b[38;5;124;43m\"\u001b[39;49m\u001b[43m)\u001b[49m\u001b[43m,\u001b[49m\n\u001b[1;32m   1737\u001b[0m \u001b[43m    \u001b[49m\u001b[43mstorage_options\u001b[49m\u001b[38;5;241;43m=\u001b[39;49m\u001b[38;5;28;43mself\u001b[39;49m\u001b[38;5;241;43m.\u001b[39;49m\u001b[43moptions\u001b[49m\u001b[38;5;241;43m.\u001b[39;49m\u001b[43mget\u001b[49m\u001b[43m(\u001b[49m\u001b[38;5;124;43m\"\u001b[39;49m\u001b[38;5;124;43mstorage_options\u001b[39;49m\u001b[38;5;124;43m\"\u001b[39;49m\u001b[43m,\u001b[49m\u001b[43m \u001b[49m\u001b[38;5;28;43;01mNone\u001b[39;49;00m\u001b[43m)\u001b[49m\u001b[43m,\u001b[49m\n\u001b[1;32m   1738\u001b[0m \u001b[43m\u001b[49m\u001b[43m)\u001b[49m\n\u001b[1;32m   1739\u001b[0m \u001b[38;5;28;01massert\u001b[39;00m \u001b[38;5;28mself\u001b[39m\u001b[38;5;241m.\u001b[39mhandles \u001b[38;5;129;01mis\u001b[39;00m \u001b[38;5;129;01mnot\u001b[39;00m \u001b[38;5;28;01mNone\u001b[39;00m\n\u001b[1;32m   1740\u001b[0m f \u001b[38;5;241m=\u001b[39m \u001b[38;5;28mself\u001b[39m\u001b[38;5;241m.\u001b[39mhandles\u001b[38;5;241m.\u001b[39mhandle\n",
      "File \u001b[0;32m~/miniconda3/lib/python3.9/site-packages/pandas/io/common.py:857\u001b[0m, in \u001b[0;36mget_handle\u001b[0;34m(path_or_buf, mode, encoding, compression, memory_map, is_text, errors, storage_options)\u001b[0m\n\u001b[1;32m    852\u001b[0m \u001b[38;5;28;01melif\u001b[39;00m \u001b[38;5;28misinstance\u001b[39m(handle, \u001b[38;5;28mstr\u001b[39m):\n\u001b[1;32m    853\u001b[0m     \u001b[38;5;66;03m# Check whether the filename is to be opened in binary mode.\u001b[39;00m\n\u001b[1;32m    854\u001b[0m     \u001b[38;5;66;03m# Binary mode does not support 'encoding' and 'newline'.\u001b[39;00m\n\u001b[1;32m    855\u001b[0m     \u001b[38;5;28;01mif\u001b[39;00m ioargs\u001b[38;5;241m.\u001b[39mencoding \u001b[38;5;129;01mand\u001b[39;00m \u001b[38;5;124m\"\u001b[39m\u001b[38;5;124mb\u001b[39m\u001b[38;5;124m\"\u001b[39m \u001b[38;5;129;01mnot\u001b[39;00m \u001b[38;5;129;01min\u001b[39;00m ioargs\u001b[38;5;241m.\u001b[39mmode:\n\u001b[1;32m    856\u001b[0m         \u001b[38;5;66;03m# Encoding\u001b[39;00m\n\u001b[0;32m--> 857\u001b[0m         handle \u001b[38;5;241m=\u001b[39m \u001b[38;5;28;43mopen\u001b[39;49m\u001b[43m(\u001b[49m\n\u001b[1;32m    858\u001b[0m \u001b[43m            \u001b[49m\u001b[43mhandle\u001b[49m\u001b[43m,\u001b[49m\n\u001b[1;32m    859\u001b[0m \u001b[43m            \u001b[49m\u001b[43mioargs\u001b[49m\u001b[38;5;241;43m.\u001b[39;49m\u001b[43mmode\u001b[49m\u001b[43m,\u001b[49m\n\u001b[1;32m    860\u001b[0m \u001b[43m            \u001b[49m\u001b[43mencoding\u001b[49m\u001b[38;5;241;43m=\u001b[39;49m\u001b[43mioargs\u001b[49m\u001b[38;5;241;43m.\u001b[39;49m\u001b[43mencoding\u001b[49m\u001b[43m,\u001b[49m\n\u001b[1;32m    861\u001b[0m \u001b[43m            \u001b[49m\u001b[43merrors\u001b[49m\u001b[38;5;241;43m=\u001b[39;49m\u001b[43merrors\u001b[49m\u001b[43m,\u001b[49m\n\u001b[1;32m    862\u001b[0m \u001b[43m            \u001b[49m\u001b[43mnewline\u001b[49m\u001b[38;5;241;43m=\u001b[39;49m\u001b[38;5;124;43m\"\u001b[39;49m\u001b[38;5;124;43m\"\u001b[39;49m\u001b[43m,\u001b[49m\n\u001b[1;32m    863\u001b[0m \u001b[43m        \u001b[49m\u001b[43m)\u001b[49m\n\u001b[1;32m    864\u001b[0m     \u001b[38;5;28;01melse\u001b[39;00m:\n\u001b[1;32m    865\u001b[0m         \u001b[38;5;66;03m# Binary mode\u001b[39;00m\n\u001b[1;32m    866\u001b[0m         handle \u001b[38;5;241m=\u001b[39m \u001b[38;5;28mopen\u001b[39m(handle, ioargs\u001b[38;5;241m.\u001b[39mmode)\n",
      "\u001b[0;31mFileNotFoundError\u001b[0m: [Errno 2] No such file or directory: 'output/cockroachdb_results_dependency.csv'"
     ]
    }
   ],
   "source": [
    "# open a csv file and read the content\n",
    "#df = pd.read_csv(\"output/psql_results_dependency.csv\")\n",
    "df = pd.read_csv(\"output/cockroachdb_results_dependency.csv\")\n",
    "condition = (df['IS_ERROR'] == True) & (df['DEPENDENCY'].isna())"
   ]
  },
  {
   "cell_type": "code",
   "execution_count": 42,
   "metadata": {},
   "outputs": [
    {
     "name": "stdout",
     "output_type": "stream",
     "text": [
      "-----------I have the schema generated as follows:---------\n",
      "CREATE TABLE users (   id    INT PRIMARY KEY,   name  VARCHAR NOT NULL,   title VARCHAR,   INDEX foo (name),   UNIQUE INDEX bar (id, name),   INDEX baw (name, title) ) ;\n",
      "CREATE TABLE othertable (    x INT,    y INT,    INDEX baw (x),    INDEX yak (y, x) ) ;\n",
      "DROP INDEX baw ;\n",
      "DROP INDEX IF EXISTS baw ;\n",
      "DROP INDEX ark ;\n",
      "DROP INDEX IF EXISTS ark ;\n",
      "DROP INDEX users@ark ;\n",
      "DROP INDEX IF EXISTS users@ark ;\n",
      "DROP INDEX yak ;\n",
      "CREATE INDEX yak ON othertable (y, x) ;\n",
      "DROP INDEX IF EXISTS yak ;\n",
      "DROP TABLE othertable ;\n",
      "DROP INDEX baw ;\n",
      "INSERT INTO users VALUES (1, 'tom', 'cat'),(2, 'jerry', 'rat') ;\n",
      "DROP INDEX users@zap ;\n",
      "DROP INDEX IF EXISTS users@zap ;\n",
      "DROP INDEX IF EXISTS users@foo, users@zap ;\n",
      "DROP INDEX users@bar ;\n",
      "GRANT CREATE ON TABLE users TO testuser ;\n",
      "DROP INDEX users@bar ;\n",
      "DROP INDEX users@bar RESTRICT ;\n",
      "DROP INDEX users@bar CASCADE ;\n",
      "CREATE INDEX foo ON users (name) ;\n",
      "CREATE INDEX bar ON users (title) ;\n",
      "CREATE INDEX baz ON users (name, title) ;\n",
      "DROP INDEX IF EXISTS users@invalid, users@baz ;\n",
      "CREATE VIEW v AS SELECT name FROM users@{FORCE_INDEX=foo} ;\n",
      "DROP INDEX users@foo ;\n",
      "DROP INDEX users@bar ;\n",
      "CREATE VIEW v2 AS SELECT name FROM v ;\n",
      "GRANT ALL ON users to testuser ;\n",
      "GRANT ALL ON v to testuser ;\n",
      "DROP INDEX users@foo CASCADE ;\n",
      "DROP INDEX users@foo CASCADE ;\n",
      "CREATE TABLE tbl (c string) ;\n",
      "CREATE INDEX expr_idx ON tbl(lower(c)) ;\n",
      "DROP INDEX expr_idx ;\n",
      "CREATE INDEX baz ON users (name) ;\n",
      "DROP INDEX IF EXISTS baz, zap ;\n",
      "DROP INDEX IF EXISTS baz ;\n",
      "CREATE DATABASE view_test ;\n",
      "SET DATABASE = view_test ;\n",
      "CREATE TABLE t (id INT) ;\n",
      "CREATE VIEW v AS SELECT id FROM t ;\n",
      "DROP INDEX nonexistent_index ;\n",
      "CREATE DATABASE sequence_test ;\n",
      "SET DATABASE = sequence_test ;\n",
      "CREATE SEQUENCE s ;\n",
      "DROP INDEX nonexistent_index ;\n",
      "CREATE TABLE tu (a INT UNIQUE) ;\n",
      "CREATE UNIQUE INDEX tu_a ON tu(a) ;\n",
      "DROP INDEX tu_a_key ;\n",
      "DROP INDEX tu_a ;\n",
      "-----------The SQL commands is:---------\n",
      "GRANT ALL ON v to testuser\n",
      "-----------The expected result is:---------\n",
      "nan\n",
      "-----------The actual result is:---------\n",
      "False\n",
      "-----------The error message is:---------\n",
      "role/user \"testuser\" does not exist\n",
      "\n"
     ]
    }
   ],
   "source": [
    "# sample = df[condition].sample()\n",
    "sample = df[condition & df['ERROR_REASON'].isna()].sample()\n",
    "print(\"-----------I have the schema generated as follows:---------\")\n",
    "temp_df = df[df['TESTFILE_PATH'] == sample['TESTFILE_PATH'].values[0]]\n",
    "for sql in temp_df[temp_df['CASE_TYPE'] == 'Statement']['SQL']:\n",
    "    print(sql,\";\")\n",
    "print(\"-----------The SQL commands is:---------\")\n",
    "print(sample.SQL.values[0])\n",
    "print(\"-----------The expected result is:---------\")\n",
    "print(sample.EXPECTED_RESULT.values[0])\n",
    "print(\"-----------The actual result is:---------\")\n",
    "print(sample.ACTUAL_RESULT.values[0])\n",
    "print(\"-----------The error message is:---------\")\n",
    "print(sample.ERROR_MSG.values[0])\n"
   ]
  },
  {
   "cell_type": "code",
   "execution_count": 35,
   "metadata": {},
   "outputs": [
    {
     "data": {
      "text/plain": [
       "'cockroachdb_tests/logic_test/alter_default_privileges_with_grant_option'"
      ]
     },
     "execution_count": 35,
     "metadata": {},
     "output_type": "execute_result"
    }
   ],
   "source": [
    "sample['TESTFILE_PATH'].values[0]"
   ]
  },
  {
   "cell_type": "code",
   "execution_count": 43,
   "metadata": {},
   "outputs": [
    {
     "name": "stdout",
     "output_type": "stream",
     "text": [
      "The autoreload extension is already loaded. To reload it, use:\n",
      "  %reload_ext autoreload\n"
     ]
    }
   ],
   "source": [
    "%load_ext autoreload\n",
    "%autoreload 2"
   ]
  },
  {
   "cell_type": "code",
   "execution_count": 44,
   "metadata": {},
   "outputs": [
    {
     "name": "stdout",
     "output_type": "stream",
     "text": [
      "{'CLUSTER': <function <lambda> at 0x7f962c162e50>, 'REGRESS': <function <lambda> at 0x7f9649354550>, 'DATATYPE': <function <lambda> at 0x7f962b0cad30>, 'LOCK_TIMEOUT': <function <lambda> at 0x7f962b0ca5e0>, 'PG_CATALOG': <function <lambda> at 0x7f962b0ca040>, 'EXISTING_USER': <function <lambda> at 0x7f9640011ee0>, 'AUTH_FAIL': <function <lambda> at 0x7f9640011e50>, 'NO_USER': <function <lambda> at 0x7f962b050a60>}\n",
      "REGRESS\n",
      "<class 'pandas.core.frame.DataFrame'>\n",
      "Int64Index: 0 entries\n",
      "Data columns (total 18 columns):\n",
      " #   Column           Non-Null Count  Dtype  \n",
      "---  ------           --------------  -----  \n",
      " 0   Unnamed: 0       0 non-null      int64  \n",
      " 1   DBMS_NAME        0 non-null      object \n",
      " 2   TESTFILE_INDEX   0 non-null      int64  \n",
      " 3   TESTFILE_PATH    0 non-null      object \n",
      " 4   ORIGINAL_SUITE   0 non-null      float64\n",
      " 5   TESTCASE_INDEX   0 non-null      int64  \n",
      " 6   SQL              0 non-null      object \n",
      " 7   CASE_TYPE        0 non-null      object \n",
      " 8   EXPECTED_RESULT  0 non-null      object \n",
      " 9   ACTUAL_RESULT    0 non-null      object \n",
      " 10  EXEC_TIME        0 non-null      int64  \n",
      " 11  DATE             0 non-null      object \n",
      " 12  IS_ERROR         0 non-null      bool   \n",
      " 13  ERROR_MSG        0 non-null      object \n",
      " 14  USER             0 non-null      object \n",
      " 15  LOGS_INDEX       0 non-null      int64  \n",
      " 16  ERROR_REASON     0 non-null      object \n",
      " 17  DEPENDENCY       0 non-null      object \n",
      "dtypes: bool(1), float64(1), int64(5), object(11)\n",
      "memory usage: 0.0+ bytes\n",
      "None\n",
      "Tag COLLATION is not in the test filter, implement it first!\n",
      "DATATYPE\n",
      "<class 'pandas.core.frame.DataFrame'>\n",
      "Int64Index: 65 entries, 635 to 11374\n",
      "Data columns (total 18 columns):\n",
      " #   Column           Non-Null Count  Dtype  \n",
      "---  ------           --------------  -----  \n",
      " 0   Unnamed: 0       65 non-null     int64  \n",
      " 1   DBMS_NAME        65 non-null     object \n",
      " 2   TESTFILE_INDEX   65 non-null     int64  \n",
      " 3   TESTFILE_PATH    65 non-null     object \n",
      " 4   ORIGINAL_SUITE   0 non-null      float64\n",
      " 5   TESTCASE_INDEX   65 non-null     int64  \n",
      " 6   SQL              65 non-null     object \n",
      " 7   CASE_TYPE        65 non-null     object \n",
      " 8   EXPECTED_RESULT  65 non-null     object \n",
      " 9   ACTUAL_RESULT    65 non-null     object \n",
      " 10  EXEC_TIME        65 non-null     int64  \n",
      " 11  DATE             65 non-null     object \n",
      " 12  IS_ERROR         65 non-null     bool   \n",
      " 13  ERROR_MSG        65 non-null     object \n",
      " 14  USER             65 non-null     object \n",
      " 15  LOGS_INDEX       65 non-null     int64  \n",
      " 16  ERROR_REASON     65 non-null     object \n",
      " 17  DEPENDENCY       0 non-null      object \n",
      "dtypes: bool(1), float64(1), int64(5), object(11)\n",
      "memory usage: 9.2+ KB\n",
      "None\n",
      "LOCK_TIMEOUT\n",
      "<class 'pandas.core.frame.DataFrame'>\n",
      "Int64Index: 6 entries, 6793 to 6803\n",
      "Data columns (total 18 columns):\n",
      " #   Column           Non-Null Count  Dtype  \n",
      "---  ------           --------------  -----  \n",
      " 0   Unnamed: 0       6 non-null      int64  \n",
      " 1   DBMS_NAME        6 non-null      object \n",
      " 2   TESTFILE_INDEX   6 non-null      int64  \n",
      " 3   TESTFILE_PATH    6 non-null      object \n",
      " 4   ORIGINAL_SUITE   0 non-null      float64\n",
      " 5   TESTCASE_INDEX   6 non-null      int64  \n",
      " 6   SQL              6 non-null      object \n",
      " 7   CASE_TYPE        6 non-null      object \n",
      " 8   EXPECTED_RESULT  6 non-null      object \n",
      " 9   ACTUAL_RESULT    6 non-null      object \n",
      " 10  EXEC_TIME        6 non-null      int64  \n",
      " 11  DATE             6 non-null      object \n",
      " 12  IS_ERROR         6 non-null      bool   \n",
      " 13  ERROR_MSG        6 non-null      object \n",
      " 14  USER             6 non-null      object \n",
      " 15  LOGS_INDEX       6 non-null      int64  \n",
      " 16  ERROR_REASON     6 non-null      object \n",
      " 17  DEPENDENCY       0 non-null      object \n",
      "dtypes: bool(1), float64(1), int64(5), object(11)\n",
      "memory usage: 870.0+ bytes\n",
      "None\n",
      "PG_CATALOG\n",
      "<class 'pandas.core.frame.DataFrame'>\n",
      "Int64Index: 23 entries, 4435 to 10533\n",
      "Data columns (total 18 columns):\n",
      " #   Column           Non-Null Count  Dtype  \n",
      "---  ------           --------------  -----  \n",
      " 0   Unnamed: 0       23 non-null     int64  \n",
      " 1   DBMS_NAME        23 non-null     object \n",
      " 2   TESTFILE_INDEX   23 non-null     int64  \n",
      " 3   TESTFILE_PATH    23 non-null     object \n",
      " 4   ORIGINAL_SUITE   0 non-null      float64\n",
      " 5   TESTCASE_INDEX   23 non-null     int64  \n",
      " 6   SQL              23 non-null     object \n",
      " 7   CASE_TYPE        23 non-null     object \n",
      " 8   EXPECTED_RESULT  22 non-null     object \n",
      " 9   ACTUAL_RESULT    18 non-null     object \n",
      " 10  EXEC_TIME        23 non-null     int64  \n",
      " 11  DATE             23 non-null     object \n",
      " 12  IS_ERROR         23 non-null     bool   \n",
      " 13  ERROR_MSG        23 non-null     object \n",
      " 14  USER             23 non-null     object \n",
      " 15  LOGS_INDEX       23 non-null     int64  \n",
      " 16  ERROR_REASON     23 non-null     object \n",
      " 17  DEPENDENCY       0 non-null      object \n",
      "dtypes: bool(1), float64(1), int64(5), object(11)\n",
      "memory usage: 3.3+ KB\n",
      "None\n",
      "EXISTING_USER\n",
      "<class 'pandas.core.frame.DataFrame'>\n",
      "Int64Index: 32 entries, 1328 to 11763\n",
      "Data columns (total 18 columns):\n",
      " #   Column           Non-Null Count  Dtype  \n",
      "---  ------           --------------  -----  \n",
      " 0   Unnamed: 0       32 non-null     int64  \n",
      " 1   DBMS_NAME        32 non-null     object \n",
      " 2   TESTFILE_INDEX   32 non-null     int64  \n",
      " 3   TESTFILE_PATH    32 non-null     object \n",
      " 4   ORIGINAL_SUITE   0 non-null      float64\n",
      " 5   TESTCASE_INDEX   32 non-null     int64  \n",
      " 6   SQL              32 non-null     object \n",
      " 7   CASE_TYPE        32 non-null     object \n",
      " 8   EXPECTED_RESULT  0 non-null      object \n",
      " 9   ACTUAL_RESULT    32 non-null     object \n",
      " 10  EXEC_TIME        32 non-null     int64  \n",
      " 11  DATE             32 non-null     object \n",
      " 12  IS_ERROR         32 non-null     bool   \n",
      " 13  ERROR_MSG        32 non-null     object \n",
      " 14  USER             32 non-null     object \n",
      " 15  LOGS_INDEX       32 non-null     int64  \n",
      " 16  ERROR_REASON     32 non-null     object \n",
      " 17  DEPENDENCY       0 non-null      object \n",
      "dtypes: bool(1), float64(1), int64(5), object(11)\n",
      "memory usage: 4.5+ KB\n",
      "None\n",
      "AUTH_FAIL\n",
      "<class 'pandas.core.frame.DataFrame'>\n",
      "Int64Index: 128 entries, 218 to 9452\n",
      "Data columns (total 18 columns):\n",
      " #   Column           Non-Null Count  Dtype  \n",
      "---  ------           --------------  -----  \n",
      " 0   Unnamed: 0       128 non-null    int64  \n",
      " 1   DBMS_NAME        128 non-null    object \n",
      " 2   TESTFILE_INDEX   128 non-null    int64  \n",
      " 3   TESTFILE_PATH    128 non-null    object \n",
      " 4   ORIGINAL_SUITE   0 non-null      float64\n",
      " 5   TESTCASE_INDEX   128 non-null    int64  \n",
      " 6   SQL              128 non-null    object \n",
      " 7   CASE_TYPE        128 non-null    object \n",
      " 8   EXPECTED_RESULT  120 non-null    object \n",
      " 9   ACTUAL_RESULT    128 non-null    object \n",
      " 10  EXEC_TIME        128 non-null    int64  \n",
      " 11  DATE             128 non-null    object \n",
      " 12  IS_ERROR         128 non-null    bool   \n",
      " 13  ERROR_MSG        128 non-null    object \n",
      " 14  USER             128 non-null    object \n",
      " 15  LOGS_INDEX       128 non-null    int64  \n",
      " 16  ERROR_REASON     128 non-null    object \n",
      " 17  DEPENDENCY       0 non-null      object \n",
      "dtypes: bool(1), float64(1), int64(5), object(11)\n",
      "memory usage: 18.1+ KB\n",
      "None\n",
      "NO_USER\n",
      "<class 'pandas.core.frame.DataFrame'>\n",
      "Int64Index: 330 entries, 215 to 10211\n",
      "Data columns (total 18 columns):\n",
      " #   Column           Non-Null Count  Dtype  \n",
      "---  ------           --------------  -----  \n",
      " 0   Unnamed: 0       330 non-null    int64  \n",
      " 1   DBMS_NAME        330 non-null    object \n",
      " 2   TESTFILE_INDEX   330 non-null    int64  \n",
      " 3   TESTFILE_PATH    330 non-null    object \n",
      " 4   ORIGINAL_SUITE   0 non-null      float64\n",
      " 5   TESTCASE_INDEX   330 non-null    int64  \n",
      " 6   SQL              330 non-null    object \n",
      " 7   CASE_TYPE        330 non-null    object \n",
      " 8   EXPECTED_RESULT  12 non-null     object \n",
      " 9   ACTUAL_RESULT    330 non-null    object \n",
      " 10  EXEC_TIME        330 non-null    int64  \n",
      " 11  DATE             330 non-null    object \n",
      " 12  IS_ERROR         330 non-null    bool   \n",
      " 13  ERROR_MSG        330 non-null    object \n",
      " 14  USER             330 non-null    object \n",
      " 15  LOGS_INDEX       330 non-null    int64  \n",
      " 16  ERROR_REASON     330 non-null    object \n",
      " 17  DEPENDENCY       0 non-null      object \n",
      "dtypes: bool(1), float64(1), int64(5), object(11)\n",
      "memory usage: 46.7+ KB\n",
      "None\n"
     ]
    }
   ],
   "source": [
    "from src import testanalyzer\n",
    "\n",
    "print(testanalyzer.TEST_FILTER)\n",
    "reasons = pd.read_csv(\"data/error_reasons.csv\")\n",
    "tags = reasons['TAG'].values.tolist()\n",
    "for tag in tags:\n",
    "    if tag not in testanalyzer.TEST_FILTER:\n",
    "        print(f\"Tag {tag} is not in the test filter, implement it first!\")\n",
    "        continue\n",
    "    df.loc[df.apply(testanalyzer.TEST_FILTER[tag], axis=1) & condition, 'ERROR_REASON'] = tag\n",
    "    print(tag)\n",
    "    print(df[df['ERROR_REASON']==tag].info())"
   ]
  },
  {
   "cell_type": "code",
   "execution_count": 45,
   "metadata": {},
   "outputs": [],
   "source": [
    "df.to_csv(\"output/cockroachdb_results_dependency.csv\")"
   ]
  },
  {
   "cell_type": "code",
   "execution_count": 50,
   "metadata": {},
   "outputs": [
    {
     "data": {
      "text/plain": [
       "1034"
      ]
     },
     "execution_count": 50,
     "metadata": {},
     "output_type": "execute_result"
    }
   ],
   "source": [
    "len(df[~df['ERROR_REASON'].isnull()])"
   ]
  },
  {
   "cell_type": "code",
   "execution_count": 7,
   "metadata": {},
   "outputs": [
    {
     "name": "stdout",
     "output_type": "stream",
     "text": [
      "Collecting fuzzywuzzy\n",
      "  Using cached fuzzywuzzy-0.18.0-py2.py3-none-any.whl (18 kB)\n",
      "Installing collected packages: fuzzywuzzy\n",
      "Successfully installed fuzzywuzzy-0.18.0\n",
      "\n",
      "\u001b[1m[\u001b[0m\u001b[34;49mnotice\u001b[0m\u001b[1;39;49m]\u001b[0m\u001b[39;49m A new release of pip available: \u001b[0m\u001b[31;49m22.1.2\u001b[0m\u001b[39;49m -> \u001b[0m\u001b[32;49m23.0.1\u001b[0m\n",
      "\u001b[1m[\u001b[0m\u001b[34;49mnotice\u001b[0m\u001b[1;39;49m]\u001b[0m\u001b[39;49m To update, run: \u001b[0m\u001b[32;49mpip install --upgrade pip\u001b[0m\n"
     ]
    }
   ],
   "source": [
    "!pip install fuzzywuzzy\n"
   ]
  },
  {
   "cell_type": "code",
   "execution_count": null,
   "metadata": {},
   "outputs": [],
   "source": []
  }
 ],
 "metadata": {
  "kernelspec": {
   "display_name": "Python 3 (ipykernel)",
   "language": "python",
   "name": "python3"
  },
  "language_info": {
   "codemirror_mode": {
    "name": "ipython",
    "version": 3
   },
   "file_extension": ".py",
   "mimetype": "text/x-python",
   "name": "python",
   "nbconvert_exporter": "python",
   "pygments_lexer": "ipython3",
   "version": "3.9.7"
  }
 },
 "nbformat": 4,
 "nbformat_minor": 2
}
