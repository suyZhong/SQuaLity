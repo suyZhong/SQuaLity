{
 "cells": [
  {
   "cell_type": "markdown",
   "metadata": {},
   "source": [
    "## Get (bugs) information from `.csv` files\n",
    "\n",
    "The following part extracts information from the `.csv` files dumped during running test suites on DBMSs."
   ]
  },
  {
   "cell_type": "code",
   "execution_count": null,
   "metadata": {},
   "outputs": [],
   "source": [
    "import pandas as pd\n",
    "\n",
    "results_df = pd.read_csv(\"output/mysql_results.csv\")\n",
    "logs_df = pd.read_csv(\"output/mysql_logs.csv\")\n",
    "\n",
    "print(results_df.info())\n",
    "print(logs_df.info())\n"
   ]
  },
  {
   "cell_type": "code",
   "execution_count": null,
   "metadata": {},
   "outputs": [],
   "source": [
    "from random import randint\n",
    "\n",
    "bug_rows = results_df.loc[results_df.IS_ERROR == True]\n",
    "\n",
    "print(bug_rows)\n",
    "print(logs_df.LOGS)\n",
    "\n",
    "bug_row = bug_rows.sample(1).squeeze()\n",
    "dbms_name = bug_row.DBMS_NAME\n",
    "log_row = logs_df.loc[bug_row.LOGS_INDEX]\n",
    "test_suite = 'sqlite_tests'  # TODO same as above\n"
   ]
  },
  {
   "cell_type": "markdown",
   "metadata": {},
   "source": [
    "## Reproduce an error testcase\n",
    "\n",
    "The following code picks a bug record in the `.csv` file and run on the selected db. Maybe running using the testrunner."
   ]
  },
  {
   "cell_type": "code",
   "execution_count": null,
   "metadata": {},
   "outputs": [],
   "source": [
    "from src import testrunner\n",
    "\n",
    "if dbms_name == 'sqlite':\n",
    "    r = testrunner.SQLiteRunner()\n",
    "elif dbms_name == 'duckdb':\n",
    "    r = testrunner.DuckDBRunner()\n",
    "elif dbms_name == 'cockroachdb':\n",
    "    r = testrunner.CockroachDBRunner()\n",
    "elif dbms_name == 'mysql':\n",
    "    r = testrunner.MySQLRunner()\n",
    "else:\n",
    "    exit(\"Not implement yet\")\n",
    "    \n",
    "r.connect(\"tempdb\")\n",
    "\n",
    "print(bug_row)\n",
    "print(log_row)\n",
    "print(log_row.LOGS)\n",
    "r.executemany_stmt(log_row.LOGS)\n",
    "\n",
    "print(\"The Fault SQL is %s\" % bug_row.SQL)\n",
    "print(\"The Expected Result is:\")\n",
    "print(bug_row.EXPECTED_RESULT)\n",
    "print(\"The Actual Result is:\")\n",
    "result = r.execute_query(bug_row.SQL)\n",
    "for row in result:\n",
    "    for item in row:\n",
    "        print(item)\n",
    "\n",
    "\n",
    "\n",
    "\n"
   ]
  }
 ],
 "metadata": {
  "kernelspec": {
   "display_name": "Python 3.10.4 64-bit",
   "language": "python",
   "name": "python3"
  },
  "language_info": {
   "codemirror_mode": {
    "name": "ipython",
    "version": 3
   },
   "file_extension": ".py",
   "mimetype": "text/x-python",
   "name": "python",
   "nbconvert_exporter": "python",
   "pygments_lexer": "ipython3",
   "version": "3.10.6"
  },
  "orig_nbformat": 4,
  "vscode": {
   "interpreter": {
    "hash": "916dbcbb3f70747c44a77c7bcd40155683ae19c65e1c03b4aa3499c5328201f1"
   }
  }
 },
 "nbformat": 4,
 "nbformat_minor": 2
}
