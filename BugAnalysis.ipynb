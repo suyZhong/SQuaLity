{
 "cells": [
  {
   "cell_type": "code",
   "execution_count": null,
   "metadata": {},
   "outputs": [],
   "source": [
    "import os\n",
    "import sys\n",
    "# sys.path.append(os.path.dirname(SCRIPDIR))\n",
    "import matplotlib.pyplot as plt\n",
    "import pandas as pd"
   ]
  },
  {
   "cell_type": "code",
   "execution_count": null,
   "metadata": {},
   "outputs": [],
   "source": [
    "# open a csv file and read the content\n",
    "df = pd.read_csv(\"output/psql_results_dependency.csv\")\n",
    "condition = (df['IS_ERROR'] == True) & (df['DEPENDENCY'].isna())"
   ]
  },
  {
   "cell_type": "code",
   "execution_count": null,
   "metadata": {},
   "outputs": [],
   "source": [
    "# sample = df[condition].sample()\n",
    "sample = df[condition & df['ERROR_REASON'].isna()].sample()\n",
    "print(\"-----------I have the schema generated as follows:---------\")\n",
    "temp_df = df[df['TESTFILE_PATH'] == sample['TESTFILE_PATH'].values[0]]\n",
    "for sql in temp_df[temp_df['CASE_TYPE'] == 'Statement']['SQL']:\n",
    "    print(sql)\n",
    "print(\"-----------The SQL commands is:---------\")\n",
    "print(sample.SQL.values[0])\n",
    "print(\"-----------The expected result is:---------\")\n",
    "print(sample.EXPECTED_RESULT.values[0])\n",
    "print(\"-----------The actual result is:---------\")\n",
    "print(sample.ACTUAL_RESULT.values[0])\n",
    "print(\"-----------The error message is:---------\")\n",
    "print(sample.ERROR_MSG.values[0])\n"
   ]
  },
  {
   "cell_type": "code",
   "execution_count": null,
   "metadata": {},
   "outputs": [],
   "source": [
    "from src import testanalyzer\n",
    "\n",
    "print(testanalyzer.TEST_FILTER)\n",
    "reasons = pd.read_csv(\"data/error_reasons.csv\")\n",
    "tags = reasons['TAG'].values.tolist()\n",
    "for tag in tags:\n",
    "    if tag not in testanalyzer.TEST_FILTER:\n",
    "        print(f\"Tag {tag} is not in the test filter, implement it first!\")\n",
    "        continue\n",
    "    df.loc[df.apply(testanalyzer.TEST_FILTER[tag], axis=1) & condition, 'ERROR_REASON'] = tag\n",
    "    print(tag)\n",
    "    print(df[df['ERROR_REASON']==tag].info())"
   ]
  },
  {
   "cell_type": "code",
   "execution_count": null,
   "metadata": {},
   "outputs": [],
   "source": [
    "df.to_csv(\"output/psql_results_dependency.csv\")"
   ]
  }
 ],
 "metadata": {
  "kernelspec": {
   "display_name": "Python 3",
   "language": "python",
   "name": "python3"
  },
  "language_info": {
   "codemirror_mode": {
    "name": "ipython",
    "version": 3
   },
   "file_extension": ".py",
   "mimetype": "text/x-python",
   "name": "python",
   "nbconvert_exporter": "python",
   "pygments_lexer": "ipython3",
   "version": "3.10.6"
  },
  "orig_nbformat": 4
 },
 "nbformat": 4,
 "nbformat_minor": 2
}
