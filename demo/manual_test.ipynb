{
 "cells": [
  {
   "cell_type": "code",
   "execution_count": null,
   "metadata": {},
   "outputs": [
    {
     "ename": "",
     "evalue": "",
     "output_type": "error",
     "traceback": [
      "\u001b[1;31mRunning cells with 'Python 3.9.13 ('dbtest')' requires ipykernel package.\n",
      "\u001b[1;31mRun the following command to install 'ipykernel' into the Python environment. \n",
      "\u001b[1;31mCommand: 'conda install -n dbtest ipykernel --update-deps --force-reinstall'"
     ]
    }
   ],
   "source": [
    "result = [('ntqly',), ('qgrhe',), ('zqplf',), ('audaj',), ('kyjkk',), ('qpdga',), ('uuxrr',), ('afgjb',), ('ffmtu',), ('tcjza',), ('wcqha',), ('nqrvx',), ('vgece',), ('xaqvj',), ('ikeep',), ('snyzk',), ('nezqe',), ('odrnt',), ('rciug',), ('gxaun',), ('apcau',), ('orrhk',), ('ybnyh',), ('ihltr',), ('srcir',), ('kklza',), ('sqpbn',), ('pqdyu',), ('izcgv',), ('xofvt',), ('zsxbg',), ('gnrwi',), ('ersxw',), ('owsoj',), ('isjhj',), ('xwzng',), ('akcyw',), ('hqfnz',), ('ulird',), ('tgola',), ('egvnj',), ('lplkj',), ('wiqpj',), ('lplqo',), ('lxbgl',), ('zzpnr',), ('qfsyl',), ('emdpi',), ('ckkhs',), ('hpnqp',),\n",
    "          ('qnjcd',), ('pvokg',), ('ylzie',), ('iqjzj',), ('xczau',), ('wfhnu',), ('hdklm',), ('nvyjr',), ('zhmzg',), ('rpgzw',), ('wcthq',), ('snlbs',), ('wbdzu',), ('dnziz',), ('zmsag',), ('jkqud',), ('erxjg',), ('zxlob',), ('mwkhk',), ('kstwf',), ('ycdby',), ('iieen',), ('pkjfq',), ('ggoao',), ('qsrkt',), ('vudej',), ('etulb',), ('ufhol',), ('jiwix',), ('stvez',), ('lzhde',), ('lksfo',), ('qiqfh',), ('qfgbj',), ('fuyyd',), ('cbagb',), ('nrjyf',), ('stxlx',), ('ufkzm',), ('gyzmr',), ('nqvym',), ('qgtiq',), ('zytwh',), ('tgwdp',), ('renbl',), ('piify',), ('bcrvc',), ('bujzn',), ('ppfsx',), ('fxpct',)]\n"
   ]
  }
 ],
 "metadata": {
  "kernelspec": {
   "display_name": "Python 3.9.13 ('dbtest')",
   "language": "python",
   "name": "python3"
  },
  "language_info": {
   "name": "python",
   "version": "3.9.13"
  },
  "orig_nbformat": 4,
  "vscode": {
   "interpreter": {
    "hash": "e5e5eefcb29da43866749401e986425f697c681ecf64d2647431bcac106a049a"
   }
  }
 },
 "nbformat": 4,
 "nbformat_minor": 2
}
