{
 "cells": [
  {
   "cell_type": "code",
   "execution_count": 31,
   "id": "ca136233",
   "metadata": {},
   "outputs": [],
   "source": [
    "import pandas as pd\n",
    "import re\n",
    "import sqlparse\n",
    "\n",
    "db = \"cockroachdb\"\n",
    "db1 = \"duckdb\"\n",
    "db2 = \"sqlite\"\n",
    "db3 = \"mysql\"\n",
    "\n",
    "results_df_cockroach = pd.read_csv(f\"{db}_output/{db}_results.csv\")\n",
    "results_df_duck = pd.read_csv(f\"{db1}_output/{db1}_results.csv\")\n",
    "results_df2_sqlite = pd.read_csv(f\"{db2}_output/{db2}_results.csv\")\n",
    "results_df3_mysql = pd.read_csv(f\"{db3}_output/{db3}_results.csv_debug\")"
   ]
  },
  {
   "cell_type": "code",
   "execution_count": 12,
   "id": "6581dcc8",
   "metadata": {},
   "outputs": [],
   "source": [
    "testcase_mapping = results_df_cockroach[['TESTFILE_INDEX', 'TESTFILE_PATH']].drop_duplicates()\n",
    "#results_df_cockroach = results_df_cockroach.set_index(['TESTFILE_INDEX','TESTCASE_INDEX'])\n",
    "#results_df_duck = results_df_duck.set_index(['TESTFILE_INDEX','TESTCASE_INDEX'])\n",
    "#results_df2_sqlite = results_df2_sqlite.set_index(['TESTFILE_INDEX','TESTCASE_INDEX'])\n",
    "#results_df3_mysql =results_df3_mysql.set_index(['TESTFILE_INDEX','TESTCASE_INDEX'])\n",
    "drop_cockroach_errors = results_df_cockroach[results_df_cockroach.IS_ERROR == True].index"
   ]
  },
  {
   "cell_type": "code",
   "execution_count": 13,
   "id": "d218c239",
   "metadata": {},
   "outputs": [],
   "source": [
    "cockroach = results_df_cockroach.drop(['Unnamed: 0','ORIGINAL_SUITE','DATE','TESTFILE_PATH'], axis =1).copy()\n",
    "#cockroach = cockroach.drop(drop_cockroach_errors)\n",
    "duck = results_df_duck.drop(['Unnamed: 0','ORIGINAL_SUITE','DATE','TESTFILE_PATH'], axis =1).copy()\n",
    "#duck = duck.drop(drop_cockroach_errors, errors='ignore')\n",
    "sqlite = results_df2_sqlite.drop(['Unnamed: 0','ORIGINAL_SUITE','DATE','TESTFILE_PATH'], axis =1).copy()\n",
    "#sqlite = sqlite.drop(drop_cockroach_errors, errors='ignore')\n",
    "mysql = results_df3_mysql.drop(['Unnamed: 0','ORIGINAL_SUITE','DATE','TESTFILE_PATH'], axis =1).copy()\n",
    "#mysql = mysql.drop(drop_cockroach_errors, errors='ignore')"
   ]
  },
  {
   "cell_type": "code",
   "execution_count": 14,
   "id": "adc24926",
   "metadata": {},
   "outputs": [],
   "source": [
    "cols = ['TESTCASE_INDEX','TESTFILE_INDEX','SQL','CASE_TYPE','EXPECTED_RESULT', 'USER']\n",
    "dummy = 'squality_nishita_3.14159'\n",
    "cockroach = cockroach.fillna(dict(zip(cols, [dummy]*len(cols))))\n",
    "dfc = cockroach.drop(columns = cols).drop(columns = ['DBMS_NAME'])\n",
    "dfc.columns = 'cockroachdb_' + dfc.columns\n",
    "dfc = pd.concat([dfc, cockroach[cols]], axis=1)\n",
    "\n",
    "duck = duck.fillna(dict(zip(cols, [dummy]*len(cols))))\n",
    "dfduck = duck.drop(columns = cols).drop(columns = ['DBMS_NAME'])\n",
    "dfduck.columns = 'duckdb_' + dfduck.columns\n",
    "dfduck = pd.concat([dfduck, duck[cols]], axis=1)\n",
    "\n",
    "sqlite = sqlite.fillna(dict(zip(cols, [dummy]*len(cols))))\n",
    "dfsqlite = sqlite.drop(columns = cols).drop(columns = ['DBMS_NAME'])\n",
    "dfsqlite.columns = 'sqlite_' + dfsqlite.columns\n",
    "dfsqlite = pd.concat([dfsqlite, sqlite[cols]], axis=1)\n",
    "\n",
    "mysql = mysql.fillna(dict(zip(cols, [dummy]*len(cols))))\n",
    "dfmysql = mysql.drop(columns = cols).drop(columns = ['DBMS_NAME'])\n",
    "dfmysql.columns = 'mysql_' + dfmysql.columns\n",
    "dfmysql = pd.concat([dfmysql, mysql[cols]], axis=1)\n",
    "\n"
   ]
  },
  {
   "cell_type": "code",
   "execution_count": 15,
   "id": "5e841d06",
   "metadata": {
    "scrolled": true
   },
   "outputs": [],
   "source": [
    "df = dfc.merge(dfduck, on=cols, how='outer').merge(dfsqlite, on=cols, how='outer').merge(dfmysql, on=cols, how='outer')"
   ]
  },
  {
   "cell_type": "code",
   "execution_count": 16,
   "id": "6ba5cd18",
   "metadata": {
    "scrolled": true
   },
   "outputs": [],
   "source": [
    "import numpy as np\n",
    "df[cols] = df[cols].replace(dummy, np.nan)"
   ]
  },
  {
   "cell_type": "code",
   "execution_count": 17,
   "id": "417a5126",
   "metadata": {},
   "outputs": [
    {
     "name": "stdout",
     "output_type": "stream",
     "text": [
      "<class 'pandas.core.frame.DataFrame'>\n",
      "Int64Index: 12055 entries, 0 to 12054\n",
      "Data columns (total 25 columns):\n",
      " #   Column                     Non-Null Count  Dtype  \n",
      "---  ------                     --------------  -----  \n",
      " 0   TESTFILE_INDEX             12055 non-null  int64  \n",
      " 1   SQL                        12055 non-null  object \n",
      " 2   CASE_TYPE                  12055 non-null  object \n",
      " 3   EXPECTED_RESULT            6260 non-null   object \n",
      " 4   USER                       12055 non-null  object \n",
      " 5   cockroachdb_ACTUAL_RESULT  11621 non-null  object \n",
      " 6   cockroachdb_EXEC_TIME      12041 non-null  float64\n",
      " 7   cockroachdb_IS_ERROR       12041 non-null  object \n",
      " 8   cockroachdb_ERROR_MSG      8147 non-null   object \n",
      " 9   cockroachdb_LOGS_INDEX     12041 non-null  float64\n",
      " 10  duckdb_ACTUAL_RESULT       11644 non-null  object \n",
      " 11  duckdb_EXEC_TIME           11922 non-null  float64\n",
      " 12  duckdb_IS_ERROR            11922 non-null  object \n",
      " 13  duckdb_ERROR_MSG           10804 non-null  object \n",
      " 14  duckdb_LOGS_INDEX          11922 non-null  float64\n",
      " 15  sqlite_ACTUAL_RESULT       11794 non-null  object \n",
      " 16  sqlite_EXEC_TIME           12036 non-null  float64\n",
      " 17  sqlite_IS_ERROR            12036 non-null  object \n",
      " 18  sqlite_ERROR_MSG           11343 non-null  object \n",
      " 19  sqlite_LOGS_INDEX          12036 non-null  float64\n",
      " 20  mysql_ACTUAL_RESULT        10687 non-null  object \n",
      " 21  mysql_EXEC_TIME            10856 non-null  float64\n",
      " 22  mysql_IS_ERROR             10856 non-null  object \n",
      " 23  mysql_ERROR_MSG            10344 non-null  object \n",
      " 24  mysql_LOGS_INDEX           10856 non-null  float64\n",
      "dtypes: float64(8), int64(1), object(16)\n",
      "memory usage: 2.4+ MB\n"
     ]
    }
   ],
   "source": [
    "df = df[['TESTFILE_INDEX', 'SQL',\n",
    "       'CASE_TYPE', 'EXPECTED_RESULT', 'USER','cockroachdb_ACTUAL_RESULT', 'cockroachdb_EXEC_TIME',\n",
    "       'cockroachdb_IS_ERROR', 'cockroachdb_ERROR_MSG',\n",
    "       'cockroachdb_LOGS_INDEX', 'duckdb_ACTUAL_RESULT',\n",
    "       'duckdb_EXEC_TIME', 'duckdb_IS_ERROR', 'duckdb_ERROR_MSG',\n",
    "       'duckdb_LOGS_INDEX', 'sqlite_ACTUAL_RESULT', 'sqlite_EXEC_TIME',\n",
    "       'sqlite_IS_ERROR', 'sqlite_ERROR_MSG', 'sqlite_LOGS_INDEX',\n",
    "       'mysql_ACTUAL_RESULT', 'mysql_EXEC_TIME', 'mysql_IS_ERROR',\n",
    "       'mysql_ERROR_MSG', 'mysql_LOGS_INDEX']]\n",
    "df.info()"
   ]
  },
  {
   "cell_type": "code",
   "execution_count": 18,
   "id": "f2e026f9",
   "metadata": {},
   "outputs": [],
   "source": [
    "df_all_errors = df[(df['cockroachdb_IS_ERROR'] == False) & \n",
    "  (df['mysql_IS_ERROR'] == False) &\n",
    "  (df['sqlite_IS_ERROR'] == False) &\n",
    "  (df['duckdb_IS_ERROR'] == False)].copy()"
   ]
  },
  {
   "cell_type": "code",
   "execution_count": 19,
   "id": "428a0ad9",
   "metadata": {},
   "outputs": [
    {
     "name": "stdout",
     "output_type": "stream",
     "text": [
      "<class 'pandas.core.frame.DataFrame'>\n",
      "Int64Index: 2335 entries, 0 to 12040\n",
      "Data columns (total 25 columns):\n",
      " #   Column                     Non-Null Count  Dtype  \n",
      "---  ------                     --------------  -----  \n",
      " 0   TESTFILE_INDEX             2335 non-null   int64  \n",
      " 1   SQL                        2335 non-null   object \n",
      " 2   CASE_TYPE                  2335 non-null   object \n",
      " 3   EXPECTED_RESULT            1460 non-null   object \n",
      " 4   USER                       2335 non-null   object \n",
      " 5   cockroachdb_ACTUAL_RESULT  2290 non-null   object \n",
      " 6   cockroachdb_EXEC_TIME      2335 non-null   float64\n",
      " 7   cockroachdb_IS_ERROR       2335 non-null   object \n",
      " 8   cockroachdb_ERROR_MSG      2005 non-null   object \n",
      " 9   cockroachdb_LOGS_INDEX     2335 non-null   float64\n",
      " 10  duckdb_ACTUAL_RESULT       2290 non-null   object \n",
      " 11  duckdb_EXEC_TIME           2335 non-null   float64\n",
      " 12  duckdb_IS_ERROR            2335 non-null   object \n",
      " 13  duckdb_ERROR_MSG           2005 non-null   object \n",
      " 14  duckdb_LOGS_INDEX          2335 non-null   float64\n",
      " 15  sqlite_ACTUAL_RESULT       2290 non-null   object \n",
      " 16  sqlite_EXEC_TIME           2335 non-null   float64\n",
      " 17  sqlite_IS_ERROR            2335 non-null   object \n",
      " 18  sqlite_ERROR_MSG           2005 non-null   object \n",
      " 19  sqlite_LOGS_INDEX          2335 non-null   float64\n",
      " 20  mysql_ACTUAL_RESULT        2290 non-null   object \n",
      " 21  mysql_EXEC_TIME            2335 non-null   float64\n",
      " 22  mysql_IS_ERROR             2335 non-null   object \n",
      " 23  mysql_ERROR_MSG            2005 non-null   object \n",
      " 24  mysql_LOGS_INDEX           2335 non-null   float64\n",
      "dtypes: float64(8), int64(1), object(16)\n",
      "memory usage: 474.3+ KB\n"
     ]
    }
   ],
   "source": [
    "df_all_errors.info()\n",
    "#2214 queries pass in all databases"
   ]
  },
  {
   "cell_type": "code",
   "execution_count": 20,
   "id": "a6fadeb1",
   "metadata": {},
   "outputs": [
    {
     "name": "stdout",
     "output_type": "stream",
     "text": [
      "Number of statements failing in duckdb:  163\n",
      "Number of queries failing in duckdb:  35\n",
      "Total number of unique error messages:  48\n",
      "Total number of result mismatch  7\n"
     ]
    }
   ],
   "source": [
    "df_duck_db = df[(df['cockroachdb_IS_ERROR'] == False) & \n",
    "  (df['mysql_IS_ERROR'] == False) &\n",
    "  (df['sqlite_IS_ERROR'] == False) &\n",
    "  (df['duckdb_IS_ERROR'] == True)].copy()\n",
    "df_duck_db_statements = df_duck_db[(df_duck_db['CASE_TYPE'] == 'Statement')].copy()\n",
    "df_duck_db_queries = df_duck_db[(df_duck_db['CASE_TYPE'] == 'Query')].copy()\n",
    "print(\"Number of statements failing in duckdb: \",len(df_duck_db_statements) )\n",
    "print(\"Number of queries failing in duckdb: \",len(df_duck_db_queries) )\n",
    "\n",
    "df_error = df_duck_db.copy()\n",
    "print(\"Total number of unique error messages: \", len(df_error['duckdb_ERROR_MSG'].unique()))\n",
    "value_mismatch = df_error[df_error['duckdb_ERROR_MSG'] == 'Result MisMatch']\n",
    "print(\"Total number of result mismatch \", len(value_mismatch))\n",
    "\n"
   ]
  },
  {
   "cell_type": "code",
   "execution_count": 21,
   "id": "cd43f0e5",
   "metadata": {},
   "outputs": [
    {
     "name": "stdout",
     "output_type": "stream",
     "text": [
      "Number of statements failing in cockroach:  105\n",
      "Number of queries failing in cockroach:  2\n",
      "Total number of unique error messages:  2\n",
      "Total number of result mismatch  2\n"
     ]
    },
    {
     "data": {
      "text/plain": [
       "array(['None', 'Result MisMatch'], dtype=object)"
      ]
     },
     "execution_count": 21,
     "metadata": {},
     "output_type": "execute_result"
    }
   ],
   "source": [
    "df_cockroach_db = df[(df['cockroachdb_IS_ERROR'] == True) & \n",
    "  (df['mysql_IS_ERROR'] == False) &\n",
    "  (df['sqlite_IS_ERROR'] == False) &\n",
    "  (df['duckdb_IS_ERROR'] == False)].copy()\n",
    "df_cockroach_db_statements = df_cockroach_db[(df_cockroach_db['CASE_TYPE'] == 'Statement')].copy()\n",
    "df_cockroach_db_queries = df_cockroach_db[(df_cockroach_db['CASE_TYPE'] == 'Query')].copy()\n",
    "print(\"Number of statements failing in cockroach: \",len(df_cockroach_db_statements) )\n",
    "print(\"Number of queries failing in cockroach: \",len(df_cockroach_db_queries) )\n",
    "\n",
    "df_error = df_cockroach_db.copy()\n",
    "print(\"Total number of unique error messages: \", len(df_error['cockroachdb_ERROR_MSG'].unique()))\n",
    "value_mismatch = df_error[df_error['cockroachdb_ERROR_MSG'] == 'Result MisMatch']\n",
    "print(\"Total number of result mismatch \", len(value_mismatch))\n",
    "\n",
    "testcase_mapping[testcase_mapping.TESTFILE_INDEX == 35]\n",
    "df_error['cockroachdb_ERROR_MSG'].unique()"
   ]
  },
  {
   "cell_type": "code",
   "execution_count": 22,
   "id": "91bc9d37",
   "metadata": {},
   "outputs": [
    {
     "name": "stdout",
     "output_type": "stream",
     "text": [
      "Number of statements failing in mysql:  302\n",
      "Number of queries failing in mysql:  185\n",
      "Total number of unique error messages:  255\n",
      "Total number of result mismatch  16\n"
     ]
    }
   ],
   "source": [
    "df_mysql_db = df[(df['cockroachdb_IS_ERROR'] == False) & \n",
    "  (df['mysql_IS_ERROR'] == True) &\n",
    "  (df['sqlite_IS_ERROR'] == False) &\n",
    "  (df['duckdb_IS_ERROR'] == False)].copy()\n",
    "df_mysql_statements = df_mysql_db[(df_mysql_db['CASE_TYPE'] == 'Statement')].copy()\n",
    "df_mysql_queries = df_mysql_db[(df_mysql_db['CASE_TYPE'] == 'Query')].copy()\n",
    "print(\"Number of statements failing in mysql: \",len(df_mysql_statements) )\n",
    "print(\"Number of queries failing in mysql: \",len(df_mysql_queries) )\n",
    "\n",
    "df_error = df_mysql_db.copy()\n",
    "print(\"Total number of unique error messages: \", len(df_error['mysql_ERROR_MSG'].unique()))\n",
    "value_mismatch = df_error[df_error['mysql_ERROR_MSG'] == 'Result MisMatch']\n",
    "print(\"Total number of result mismatch \", len(value_mismatch))\n",
    "\n",
    "\n"
   ]
  },
  {
   "cell_type": "code",
   "execution_count": 23,
   "id": "1683535e",
   "metadata": {},
   "outputs": [
    {
     "name": "stdout",
     "output_type": "stream",
     "text": [
      "Number of statements failing in sqlite:  141\n",
      "Number of queries failing in sqlite:  40\n",
      "Total number of unique error messages:  29\n",
      "Total number of result mismatch  1\n"
     ]
    }
   ],
   "source": [
    "df_sqlite_db = df[(df['cockroachdb_IS_ERROR'] == False) & \n",
    "  (df['mysql_IS_ERROR'] == False) &\n",
    "  (df['sqlite_IS_ERROR'] == True) &\n",
    "  (df['duckdb_IS_ERROR'] == False)].copy()\n",
    "df_sqlite_statements = df_sqlite_db[(df_sqlite_db['CASE_TYPE'] == 'Statement')].copy()\n",
    "df_sqlite_queries = df_sqlite_db[(df_sqlite_db['CASE_TYPE'] == 'Query')].copy()\n",
    "print(\"Number of statements failing in sqlite: \",len(df_sqlite_statements) )\n",
    "print(\"Number of queries failing in sqlite: \",len(df_sqlite_queries) )\n",
    "\n",
    "df_error = df_sqlite_db.copy()\n",
    "print(\"Total number of unique error messages: \", len(df_error['sqlite_ERROR_MSG'].unique()))\n",
    "value_mismatch = df_error[df_error['sqlite_ERROR_MSG'] == 'Result MisMatch']\n",
    "print(\"Total number of result mismatch \", len(value_mismatch))\n",
    "\n"
   ]
  },
  {
   "cell_type": "code",
   "execution_count": 24,
   "id": "f2b098a5",
   "metadata": {},
   "outputs": [
    {
     "name": "stdout",
     "output_type": "stream",
     "text": [
      "Number of statements failing in all:  2005\n",
      "Number of queries failing in all:  330\n"
     ]
    }
   ],
   "source": [
    "df_all_db = df[(df['cockroachdb_IS_ERROR'] == False) & \n",
    "  (df['mysql_IS_ERROR'] == False) &\n",
    "  (df['sqlite_IS_ERROR'] == False) &\n",
    "  (df['duckdb_IS_ERROR'] == False)].copy()\n",
    "df_all_db_statement = df_all_db[(df_all_db['CASE_TYPE'] == 'Statement')].copy()\n",
    "df_all_db_queries = df_all_db[(df_all_db['CASE_TYPE'] == 'Query')].copy()\n",
    "print(\"Number of statements failing in all: \",len(df_all_db_statement) )\n",
    "print(\"Number of queries failing in all: \",len(df_all_db_queries) )\n",
    "\n",
    "df_error = df_all_db\n",
    "\n"
   ]
  },
  {
   "cell_type": "code",
   "execution_count": 25,
   "id": "6775b09a",
   "metadata": {},
   "outputs": [
    {
     "data": {
      "image/png": "[encoded data removed]",
      "text/plain": [
       "<Figure size 640x480 with 1 Axes>"
      ]
     },
     "metadata": {},
     "output_type": "display_data"
    }
   ],
   "source": [
    "import matplotlib.pyplot as plt\n",
    "import numpy as np\n",
    "\n",
    "group1 = np.array([len(df_cockroach_db_statements), len(df_cockroach_db_queries)])\n",
    "group2 = np.array([len(df_sqlite_statements), len(df_sqlite_queries)])\n",
    "group3 = np.array([len(df_mysql_statements), len(df_mysql_queries)])\n",
    "group4 = np.array([len(df_duck_db_statements), len(df_duck_db_queries)])\n",
    "group5 = np.array([len(df_all_db_statement), len(df_all_db_queries)])\n",
    "\n",
    "\n",
    "groups = np.concatenate((group1, group2, group3, group4, group5), axis=0).reshape((5, 2))\n",
    "\n",
    "\n",
    "x = np.arange(5)\n",
    "labels = np.array(['only cockroach', 'only sqlite', 'only mysql', 'only duckdb', 'all']).astype(str)\n",
    "\n",
    "bar_width = 0.35\n",
    "plt.bar(x - bar_width/2, groups[:, 0], width=bar_width, label='Statements')\n",
    "plt.bar(x + bar_width/2, groups[:, 1], width=bar_width, label='Queries')\n",
    "\n",
    "plt.xticks(x, labels)\n",
    "plt.legend()\n",
    "plt.xlabel('Testcases failing in')\n",
    "plt.ylabel('Numbers')\n",
    "\n",
    "plt.show()"
   ]
  },
  {
   "cell_type": "code",
   "execution_count": 313,
   "id": "7119e9b9",
   "metadata": {},
   "outputs": [
    {
     "name": "stdout",
     "output_type": "stream",
     "text": [
      "Percentage of errors in cockroachdb:  13.370982476538492\n",
      "Percentage of errors in duckdb:  64.36839456467037\n",
      "Percentage of errors in mysql:  68.1190125276345\n",
      "Percentage of errors in sqlite:  68.63575938850116\n",
      "Percentage of success for positive test cases in cockroachdb:  97.68241295187403\n",
      "Percentage of success for positive test cases in duckdb:  29.950027762354246\n",
      "Percentage of success for positive test cases in mysql:  22.744874715261957\n",
      "Percentage of success for positive test cases in sqlite:  23.401662049861496\n"
     ]
    }
   ],
   "source": [
    "def calculate_percentage_of_errors(dbms: str):\n",
    "    errors = len(df[(df[f'{dbms}_IS_ERROR'] == True)])\n",
    "    total_executed = len(df[~(df[f'{dbms}_EXEC_TIME']).isnull()])\n",
    "\n",
    "    print(f\"Percentage of errors in {dbms}: \" , errors/total_executed * 100)\n",
    "    \n",
    "def calculate_percentage_of_successful_positive_testcases(dbms: str,  test_suite: str):\n",
    "    success = df[(df[f'{dbms}_IS_ERROR'] == False)]\n",
    "    positive_success = success[(success[f'{dbms}_ERROR_MSG'].isnull()) | (success[f'{dbms}_ERROR_MSG']=='None')]\n",
    "    total_positive_testcase = len(\n",
    "        df[\n",
    "            ~(df[f'{dbms}_EXEC_TIME']).isnull() & \n",
    "            (df[f'{test_suite}_ERROR_MSG'].isnull()) | (df[f'{test_suite}_ERROR_MSG']=='None')\n",
    "        ]\n",
    "    )\n",
    "    positive_success = len(positive_success)\n",
    "    print(f\"Percentage of success for positive test cases in {dbms}: \" , positive_success/total_positive_testcase * 100)\n",
    "    \n",
    "\n",
    "calculate_percentage_of_errors(\"cockroachdb\")\n",
    "calculate_percentage_of_errors(\"duckdb\")\n",
    "calculate_percentage_of_errors(\"mysql\")\n",
    "calculate_percentage_of_errors(\"sqlite\")\n",
    "\n",
    "calculate_percentage_of_successful_positive_testcases(\"cockroachdb\", \"cockroachdb\")\n",
    "calculate_percentage_of_successful_positive_testcases(\"duckdb\", \"cockroachdb\")\n",
    "calculate_percentage_of_successful_positive_testcases(\"mysql\", \"cockroachdb\")\n",
    "calculate_percentage_of_successful_positive_testcases(\"sqlite\", \"cockroachdb\")\n"
   ]
  },
  {
   "cell_type": "code",
   "execution_count": 81,
   "id": "f3870040",
   "metadata": {},
   "outputs": [],
   "source": [
    "def parse_sql(sql):\n",
    "    return str(sqlparse.parse(sql)[0].token_first())  \n",
    "\n",
    "df['sql_type'] = df.apply(lambda row: parse_sql(row['SQL']), axis=1)\n"
   ]
  },
  {
   "cell_type": "code",
   "execution_count": 309,
   "id": "8c29f8ef",
   "metadata": {},
   "outputs": [
    {
     "name": "stdout",
     "output_type": "stream",
     "text": [
      "Set of SQL queries not supported by mysql, but supported by cockroach: \n",
      "ABORT\n",
      "ANALYZE\n",
      "CANCEL\n",
      "COMMENT\n",
      "DEALLOCATE\n",
      "DISCARD\n",
      "END\n",
      "EXECUTE\n",
      "EXPLAIN\n",
      "EXPLAIN(DISTSQL)\n",
      "PAUSE\n",
      "PREPARE\n",
      "RELEASE\n",
      "RESET\n",
      "RESUME\n",
      "UNLISTEN\n",
      "UPSERT\n",
      "set\n",
      "DISCARD SEQUENCES\n",
      "EXPERIMENTAL SCRUB\n",
      "PAUSE JOBS\n",
      "REASSIGN OWNED\n",
      "RESUME JOBS\n",
      "(((SELECT a FROM t)))\n",
      "(SELECT * FROM t1)\n",
      "(SELECT NULL FROM t34524)\n",
      "(SELECT a FROM t1)\n",
      "(SELECT j FROM t1)\n",
      "VALUES ((SELECT 1)), ((SELECT 2))\n",
      "VALUES (1) EXCEPT VALUES (NULL)\n",
      "VALUES (1) INTERSECT VALUES (NULL)\n",
      "VALUES (1), (1), (2), (3)\n",
      "VALUES (NULL) EXCEPT VALUES (1)\n",
      "VALUES (NULL) EXCEPT VALUES (NULL)\n",
      "VALUES (NULL) INTERSECT VALUES (1)\n",
      "VALUES (NULL) INTERSECT VALUES (NULL)\n",
      "VALUES (1) UNION ALL VALUES (NULL)\n",
      "VALUES (NULL) UNION ALL VALUES (1)\n",
      "VALUES (NULL) UNION ALL VALUES (NULL)\n",
      "VALUES (1, 2, 3), (4, 5, 6)\n",
      "VALUES (1, 2, 1.0, 'string1'), (4, 3, 2.3, 'string2')\n",
      "VALUES (length('a')), (1 + length('a')), (length('abc')), (length('ab') * 2)\n",
      "(((SELECT a FROM t ORDER BY a DESC LIMIT 4)))\n",
      "VALUES (1), (1), (1), (2), (2) EXCEPT VALUES (1), (3), (1)\n",
      "VALUES (1), (1), (1), (2), (2) INTERSECT VALUES (1), (3), (1)\n",
      "VALUES (1), (1), (1), (2), (2) UNION VALUES (1), (3), (1)\n",
      "((WITH lim(x) AS (SELECT 1) SELECT 123) LIMIT (SELECT x FROM lim))\n",
      "VALUES (1), (1), (1), (2), (2) EXCEPT ALL VALUES (1), (3), (1)\n",
      "VALUES (1), (1), (1), (2), (2) INTERSECT ALL VALUES (1), (3), (1)\n",
      "VALUES (1), (1), (1), (2), (2) UNION ALL VALUES (1), (3), (1)\n",
      "VALUES (1, 2), (1, 1), (1, 2), (2, 1), (2, 1) UNION VALUES (1, 3), (3, 4), (1, 1)\n",
      "VALUES (\n",
      "  '\"hello\"'::JSONB   ? 'hello',\n",
      "  '\"hello\"'::JSONB   ? 'goodbye',\n",
      "  '\"hello\"'::JSONB   ? 'ello',\n",
      "  '\"hello\"'::JSONB   ? 'h',\n",
      "  'true'::JSONB      ? 'true',\n",
      "  '1'::JSONB         ? '1',\n",
      "  'null'::JSONB      ? 'null'\n",
      ")\n",
      "((WITH lim(x) AS (SELECT 1) SELECT 123)\n",
      " LIMIT (\n",
      "    SELECT x FROM lim -- intuitively this should refer to the real table lim defined above\n",
      "                      -- and use LIMIT 0;\n",
      "                      -- however, postgres flattens the inner WITH and outer LIMIT\n",
      "                      -- at the same scope so the limit becomes 1.\n",
      " ))\n",
      "__________________________________________________\n",
      "Set of SQL queries not supported by sqlite, but supported by cockroach: \n",
      "ABORT\n",
      "CANCEL\n",
      "COMMENT\n",
      "COMMIT\n",
      "DEALLOCATE\n",
      "DISCARD\n",
      "END\n",
      "EXECUTE\n",
      "EXPLAIN\n",
      "EXPLAIN(DISTSQL)\n",
      "GRANT\n",
      "PAUSE\n",
      "PREPARE\n",
      "RELEASE\n",
      "RESET\n",
      "RESUME\n",
      "REVOKE\n",
      "ROLLBACK\n",
      "SET\n",
      "SHOW\n",
      "TABLE\n",
      "TRUNCATE\n",
      "UNLISTEN\n",
      "UPSERT\n",
      "USE\n",
      "set\n",
      "use\n",
      "((SELECT 1))\n",
      "DISCARD SEQUENCES\n",
      "EXPERIMENTAL SCRUB\n",
      "PAUSE JOBS\n",
      "REASSIGN OWNED\n",
      "RESUME JOBS\n",
      "(((SELECT a FROM t)))\n",
      "(SELECT * FROM t1)\n",
      "(SELECT NULL FROM t34524)\n",
      "(SELECT a FROM t1)\n",
      "(SELECT j FROM t1)\n",
      "VALUES (1) EXCEPT VALUES (NULL)\n",
      "VALUES (1) INTERSECT VALUES (NULL)\n",
      "VALUES (1), (1), (2), (3)\n",
      "VALUES (NULL) EXCEPT VALUES (1)\n",
      "VALUES (NULL) INTERSECT VALUES (1)\n",
      "((SELECT 1 FOR UPDATE SKIP LOCKED))\n",
      "((SELECT 1) FOR UPDATE SKIP LOCKED)\n",
      "VALUES (1) UNION ALL VALUES (NULL)\n",
      "VALUES (NULL) UNION ALL VALUES (1)\n",
      "(((SELECT a FROM t ORDER BY a DESC LIMIT 4)))\n",
      "((WITH lim(x) AS (SELECT 1) SELECT 123) LIMIT (SELECT x FROM lim))\n",
      "VALUES (1), (1), (1), (2), (2) EXCEPT ALL VALUES (1), (3), (1)\n",
      "VALUES (1), (1), (1), (2), (2) INTERSECT ALL VALUES (1), (3), (1)\n",
      "(SELECT v FROM uniontest WHERE k = 1 UNION ALL SELECT v FROM uniontest WHERE k = 2)\n",
      "VALUES (\n",
      "  '\"hello\"'::JSONB   ? 'hello',\n",
      "  '\"hello\"'::JSONB   ? 'goodbye',\n",
      "  '\"hello\"'::JSONB   ? 'ello',\n",
      "  '\"hello\"'::JSONB   ? 'h',\n",
      "  'true'::JSONB      ? 'true',\n",
      "  '1'::JSONB         ? '1',\n",
      "  'null'::JSONB      ? 'null'\n",
      ")\n",
      "((WITH lim(x) AS (SELECT 1) SELECT 123)\n",
      " LIMIT (\n",
      "    SELECT x FROM lim -- intuitively this should refer to the real table lim defined above\n",
      "                      -- and use LIMIT 0;\n",
      "                      -- however, postgres flattens the inner WITH and outer LIMIT\n",
      "                      -- at the same scope so the limit becomes 1.\n",
      " ))\n",
      "__________________________________________________\n",
      "Set of SQL queries not supported by duckdb, but supported by cockroach: \n",
      "CANCEL\n",
      "COMMENT\n",
      "DISCARD\n",
      "EXPLAIN\n",
      "EXPLAIN(DISTSQL)\n",
      "GRANT\n",
      "PAUSE\n",
      "RELEASE\n",
      "RESET\n",
      "RESUME\n",
      "REVOKE\n",
      "SAVEPOINT\n",
      "TRUNCATE\n",
      "UNLISTEN\n",
      "UPSERT\n",
      "USE\n",
      "set\n",
      "use\n",
      "((SELECT 1))\n",
      "DISCARD SEQUENCES\n",
      "EXPERIMENTAL SCRUB\n",
      "PAUSE JOBS\n",
      "REASSIGN OWNED\n",
      "RESUME JOBS\n",
      "(((SELECT a FROM t)))\n",
      "(SELECT * FROM t1)\n",
      "(SELECT j FROM t1)\n",
      "((SELECT 1 FOR UPDATE SKIP LOCKED))\n",
      "((SELECT 1) FOR UPDATE SKIP LOCKED)\n",
      "(((SELECT a FROM t ORDER BY a DESC LIMIT 4)))\n",
      "VALUES (1), (1), (1), (2), (2) EXCEPT ALL VALUES (1), (3), (1)\n",
      "VALUES (1), (1), (1), (2), (2) INTERSECT ALL VALUES (1), (3), (1)\n",
      "VALUES (\n",
      "  '\"hello\"'::JSONB   ? 'hello',\n",
      "  '\"hello\"'::JSONB   ? 'goodbye',\n",
      "  '\"hello\"'::JSONB   ? 'ello',\n",
      "  '\"hello\"'::JSONB   ? 'h',\n",
      "  'true'::JSONB      ? 'true',\n",
      "  '1'::JSONB         ? '1',\n",
      "  'null'::JSONB      ? 'null'\n",
      ")\n",
      "__________________________________________________\n",
      "Set of SQL queries not supported by cockroachdb, but supported by cockroach: \n",
      "\n",
      "__________________________________________________\n"
     ]
    }
   ],
   "source": [
    "def find_sql_not_supported_by_dbms_only(dbms: str, df_success_cockroach) :\n",
    "    #find sql that have success in cockroach but failed in dbms\n",
    "    df_success_cockroach_fail_dbms = df_success_cockroach[df_success_cockroach[f'{dbms}_IS_ERROR'] == True ]\n",
    "    #get their unique sql types\n",
    "    unique_cockroach_success_sql_types = df_success_cockroach_fail_dbms.sql_type.unique()\n",
    "    #some of these sql types may have passed also, so we need to subtract them\n",
    "    testcase_on_dbms_with_sql_types = df[ \n",
    "        (\n",
    "            ( (df[f'{dbms}_ERROR_MSG'].isnull()) | (df[f'{dbms}_ERROR_MSG'] == 'None') ) &\n",
    "            (df[f'{dbms}_IS_ERROR'] == False) & \n",
    "            (df['sql_type'].isin(unique_cockroach_success_sql_types)) \n",
    "        ) \n",
    "        ]\n",
    "    sql_types = np.array(testcase_on_dbms_with_sql_types.sql_type.unique())\n",
    "    sql_not_supported_by_dbms = np.setdiff1d(unique_cockroach_success_sql_types,sql_types)\n",
    "    sorted_types = list(sql_not_supported_by_dbms)\n",
    "    sorted_types = sorted(sorted_types, key=lambda s: len(s.split()))\n",
    "    print(f\"Set of SQL queries not supported by {dbms}, but supported by cockroach: \")\n",
    "    print('\\n'.join(sorted_types))\n",
    "    print(\"__________________________________________________\")\n",
    "\n",
    "def find_unsupported_sql(supported_by_dbms: str):\n",
    "    df_success_cockroach = df[\n",
    "          ( df[f'{supported_by_dbms}_IS_ERROR'] == False) & \n",
    "          ( (df[f'{supported_by_dbms}_ERROR_MSG'].isnull()) | (df[f'{supported_by_dbms}_ERROR_MSG']=='None' )) \n",
    "            ].copy()\n",
    "    unique_cockroach_success_sql_types = np.array(df_only_success_cockroach.sql_type.unique())\n",
    "    #print(unique_cockroach_success_sql_types)\n",
    "    find_sql_not_supported_by_dbms_only(\"mysql\", df_success_cockroach)\n",
    "    find_sql_not_supported_by_dbms_only(\"sqlite\", df_success_cockroach)\n",
    "    find_sql_not_supported_by_dbms_only(\"duckdb\", df_success_cockroach)\n",
    "    find_sql_not_supported_by_dbms_only(\"cockroachdb\", df_success_cockroach)\n",
    "    #print(f\"Set of SQL queries not supported by any dbms except {supported_by_dbms}: \", unique_cockroach_success_sql_types)\n",
    "\n",
    "find_unsupported_sql(\"cockroachdb\")\n",
    "\n"
   ]
  },
  {
   "cell_type": "code",
   "execution_count": null,
   "id": "f95df805",
   "metadata": {},
   "outputs": [],
   "source": []
  }
 ],
 "metadata": {
  "kernelspec": {
   "display_name": "Python 3 (ipykernel)",
   "language": "python",
   "name": "python3"
  },
  "language_info": {
   "codemirror_mode": {
    "name": "ipython",
    "version": 3
   },
   "file_extension": ".py",
   "mimetype": "text/x-python",
   "name": "python",
   "nbconvert_exporter": "python",
   "pygments_lexer": "ipython3",
   "version": "3.9.7"
  }
 },
 "nbformat": 4,
 "nbformat_minor": 5
}
